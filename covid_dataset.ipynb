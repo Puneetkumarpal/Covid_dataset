{
 "metadata": {
  "language_info": {
   "codemirror_mode": {
    "name": "ipython",
    "version": 3
   },
   "file_extension": ".py",
   "mimetype": "text/x-python",
   "name": "python",
   "nbconvert_exporter": "python",
   "pygments_lexer": "ipython3",
   "version": "3.8.1"
  },
  "orig_nbformat": 4,
  "kernelspec": {
   "name": "python3",
   "display_name": "Python 3.8.1 32-bit"
  },
  "interpreter": {
   "hash": "f7e7bd81e139741f907e961827f33a45513d0426f16782cc196b23d96f17e3d4"
  }
 },
 "nbformat": 4,
 "nbformat_minor": 2,
 "cells": [
  {
   "source": [
    "## Import library"
   ],
   "cell_type": "markdown",
   "metadata": {}
  },
  {
   "cell_type": "code",
   "execution_count": 1,
   "metadata": {},
   "outputs": [],
   "source": [
    "import pandas as pd \n",
    "import numpy as np\n",
    "import seaborn as sns\n",
    "import matplotlib.pyplot as plt"
   ]
  },
  {
   "cell_type": "code",
   "execution_count": 2,
   "metadata": {},
   "outputs": [],
   "source": [
    "from datetime import datetime\n",
    "import requests"
   ]
  },
  {
   "source": [
    "## Read covid_19_india.csv file"
   ],
   "cell_type": "markdown",
   "metadata": {}
  },
  {
   "cell_type": "code",
   "execution_count": 3,
   "metadata": {},
   "outputs": [
    {
     "output_type": "execute_result",
     "data": {
      "text/plain": [
       "   Sno        Date     Time State/UnionTerritory ConfirmedIndianNational  \\\n",
       "0    1  2020-01-30  6:00 PM               Kerala                       1   \n",
       "1    2  2020-01-31  6:00 PM               Kerala                       1   \n",
       "2    3  2020-02-01  6:00 PM               Kerala                       2   \n",
       "3    4  2020-02-02  6:00 PM               Kerala                       3   \n",
       "4    5  2020-02-03  6:00 PM               Kerala                       3   \n",
       "\n",
       "  ConfirmedForeignNational  Cured  Deaths  Confirmed  \n",
       "0                        0      0       0          1  \n",
       "1                        0      0       0          1  \n",
       "2                        0      0       0          2  \n",
       "3                        0      0       0          3  \n",
       "4                        0      0       0          3  "
      ],
      "text/html": "<div>\n<style scoped>\n    .dataframe tbody tr th:only-of-type {\n        vertical-align: middle;\n    }\n\n    .dataframe tbody tr th {\n        vertical-align: top;\n    }\n\n    .dataframe thead th {\n        text-align: right;\n    }\n</style>\n<table border=\"1\" class=\"dataframe\">\n  <thead>\n    <tr style=\"text-align: right;\">\n      <th></th>\n      <th>Sno</th>\n      <th>Date</th>\n      <th>Time</th>\n      <th>State/UnionTerritory</th>\n      <th>ConfirmedIndianNational</th>\n      <th>ConfirmedForeignNational</th>\n      <th>Cured</th>\n      <th>Deaths</th>\n      <th>Confirmed</th>\n    </tr>\n  </thead>\n  <tbody>\n    <tr>\n      <th>0</th>\n      <td>1</td>\n      <td>2020-01-30</td>\n      <td>6:00 PM</td>\n      <td>Kerala</td>\n      <td>1</td>\n      <td>0</td>\n      <td>0</td>\n      <td>0</td>\n      <td>1</td>\n    </tr>\n    <tr>\n      <th>1</th>\n      <td>2</td>\n      <td>2020-01-31</td>\n      <td>6:00 PM</td>\n      <td>Kerala</td>\n      <td>1</td>\n      <td>0</td>\n      <td>0</td>\n      <td>0</td>\n      <td>1</td>\n    </tr>\n    <tr>\n      <th>2</th>\n      <td>3</td>\n      <td>2020-02-01</td>\n      <td>6:00 PM</td>\n      <td>Kerala</td>\n      <td>2</td>\n      <td>0</td>\n      <td>0</td>\n      <td>0</td>\n      <td>2</td>\n    </tr>\n    <tr>\n      <th>3</th>\n      <td>4</td>\n      <td>2020-02-02</td>\n      <td>6:00 PM</td>\n      <td>Kerala</td>\n      <td>3</td>\n      <td>0</td>\n      <td>0</td>\n      <td>0</td>\n      <td>3</td>\n    </tr>\n    <tr>\n      <th>4</th>\n      <td>5</td>\n      <td>2020-02-03</td>\n      <td>6:00 PM</td>\n      <td>Kerala</td>\n      <td>3</td>\n      <td>0</td>\n      <td>0</td>\n      <td>0</td>\n      <td>3</td>\n    </tr>\n  </tbody>\n</table>\n</div>"
     },
     "metadata": {},
     "execution_count": 3
    }
   ],
   "source": [
    "data = pd.read_csv(\"covid_19_india.csv\")\n",
    "\n",
    "data.head()"
   ]
  },
  {
   "source": [
    "## Change columns Name"
   ],
   "cell_type": "markdown",
   "metadata": {}
  },
  {
   "cell_type": "code",
   "execution_count": 4,
   "metadata": {},
   "outputs": [
    {
     "output_type": "execute_result",
     "data": {
      "text/plain": [
       "   Sno        Date     Time  States ConfirmedIndianNational  \\\n",
       "0    1  2020-01-30  6:00 PM  Kerala                       1   \n",
       "1    2  2020-01-31  6:00 PM  Kerala                       1   \n",
       "2    3  2020-02-01  6:00 PM  Kerala                       2   \n",
       "3    4  2020-02-02  6:00 PM  Kerala                       3   \n",
       "4    5  2020-02-03  6:00 PM  Kerala                       3   \n",
       "\n",
       "  ConfirmedForeignNational  Recovery  Deaths  Confirmed  \n",
       "0                        0         0       0          1  \n",
       "1                        0         0       0          1  \n",
       "2                        0         0       0          2  \n",
       "3                        0         0       0          3  \n",
       "4                        0         0       0          3  "
      ],
      "text/html": "<div>\n<style scoped>\n    .dataframe tbody tr th:only-of-type {\n        vertical-align: middle;\n    }\n\n    .dataframe tbody tr th {\n        vertical-align: top;\n    }\n\n    .dataframe thead th {\n        text-align: right;\n    }\n</style>\n<table border=\"1\" class=\"dataframe\">\n  <thead>\n    <tr style=\"text-align: right;\">\n      <th></th>\n      <th>Sno</th>\n      <th>Date</th>\n      <th>Time</th>\n      <th>States</th>\n      <th>ConfirmedIndianNational</th>\n      <th>ConfirmedForeignNational</th>\n      <th>Recovery</th>\n      <th>Deaths</th>\n      <th>Confirmed</th>\n    </tr>\n  </thead>\n  <tbody>\n    <tr>\n      <th>0</th>\n      <td>1</td>\n      <td>2020-01-30</td>\n      <td>6:00 PM</td>\n      <td>Kerala</td>\n      <td>1</td>\n      <td>0</td>\n      <td>0</td>\n      <td>0</td>\n      <td>1</td>\n    </tr>\n    <tr>\n      <th>1</th>\n      <td>2</td>\n      <td>2020-01-31</td>\n      <td>6:00 PM</td>\n      <td>Kerala</td>\n      <td>1</td>\n      <td>0</td>\n      <td>0</td>\n      <td>0</td>\n      <td>1</td>\n    </tr>\n    <tr>\n      <th>2</th>\n      <td>3</td>\n      <td>2020-02-01</td>\n      <td>6:00 PM</td>\n      <td>Kerala</td>\n      <td>2</td>\n      <td>0</td>\n      <td>0</td>\n      <td>0</td>\n      <td>2</td>\n    </tr>\n    <tr>\n      <th>3</th>\n      <td>4</td>\n      <td>2020-02-02</td>\n      <td>6:00 PM</td>\n      <td>Kerala</td>\n      <td>3</td>\n      <td>0</td>\n      <td>0</td>\n      <td>0</td>\n      <td>3</td>\n    </tr>\n    <tr>\n      <th>4</th>\n      <td>5</td>\n      <td>2020-02-03</td>\n      <td>6:00 PM</td>\n      <td>Kerala</td>\n      <td>3</td>\n      <td>0</td>\n      <td>0</td>\n      <td>0</td>\n      <td>3</td>\n    </tr>\n  </tbody>\n</table>\n</div>"
     },
     "metadata": {},
     "execution_count": 4
    }
   ],
   "source": [
    "data = data.rename(columns={\"State/UnionTerritory\":\"States\",\"Cured\":\"Recovery\"})\n",
    "\n",
    "data.head()"
   ]
  },
  {
   "source": [
    "## Remove Extra Columns"
   ],
   "cell_type": "markdown",
   "metadata": {}
  },
  {
   "cell_type": "code",
   "execution_count": 5,
   "metadata": {},
   "outputs": [
    {
     "output_type": "execute_result",
     "data": {
      "text/plain": [
       "         Date  States  Recovery  Deaths  Confirmed\n",
       "0  2020-01-30  Kerala         0       0          1\n",
       "1  2020-01-31  Kerala         0       0          1\n",
       "2  2020-02-01  Kerala         0       0          2\n",
       "3  2020-02-02  Kerala         0       0          3\n",
       "4  2020-02-03  Kerala         0       0          3"
      ],
      "text/html": "<div>\n<style scoped>\n    .dataframe tbody tr th:only-of-type {\n        vertical-align: middle;\n    }\n\n    .dataframe tbody tr th {\n        vertical-align: top;\n    }\n\n    .dataframe thead th {\n        text-align: right;\n    }\n</style>\n<table border=\"1\" class=\"dataframe\">\n  <thead>\n    <tr style=\"text-align: right;\">\n      <th></th>\n      <th>Date</th>\n      <th>States</th>\n      <th>Recovery</th>\n      <th>Deaths</th>\n      <th>Confirmed</th>\n    </tr>\n  </thead>\n  <tbody>\n    <tr>\n      <th>0</th>\n      <td>2020-01-30</td>\n      <td>Kerala</td>\n      <td>0</td>\n      <td>0</td>\n      <td>1</td>\n    </tr>\n    <tr>\n      <th>1</th>\n      <td>2020-01-31</td>\n      <td>Kerala</td>\n      <td>0</td>\n      <td>0</td>\n      <td>1</td>\n    </tr>\n    <tr>\n      <th>2</th>\n      <td>2020-02-01</td>\n      <td>Kerala</td>\n      <td>0</td>\n      <td>0</td>\n      <td>2</td>\n    </tr>\n    <tr>\n      <th>3</th>\n      <td>2020-02-02</td>\n      <td>Kerala</td>\n      <td>0</td>\n      <td>0</td>\n      <td>3</td>\n    </tr>\n    <tr>\n      <th>4</th>\n      <td>2020-02-03</td>\n      <td>Kerala</td>\n      <td>0</td>\n      <td>0</td>\n      <td>3</td>\n    </tr>\n  </tbody>\n</table>\n</div>"
     },
     "metadata": {},
     "execution_count": 5
    }
   ],
   "source": [
    "data = data.drop(['Sno','Time','ConfirmedIndianNational','ConfirmedForeignNational'],axis=1)\r\n",
    "\r\n",
    "data.head()"
   ]
  },
  {
   "source": [
    "## Get Active Cases"
   ],
   "cell_type": "markdown",
   "metadata": {}
  },
  {
   "cell_type": "code",
   "execution_count": 6,
   "metadata": {},
   "outputs": [
    {
     "output_type": "execute_result",
     "data": {
      "text/plain": [
       "         Date  States  Recovery  Deaths  Confirmed  Active\n",
       "0  2020-01-30  Kerala         0       0          1       1\n",
       "1  2020-01-31  Kerala         0       0          1       1\n",
       "2  2020-02-01  Kerala         0       0          2       2\n",
       "3  2020-02-02  Kerala         0       0          3       3\n",
       "4  2020-02-03  Kerala         0       0          3       3"
      ],
      "text/html": "<div>\n<style scoped>\n    .dataframe tbody tr th:only-of-type {\n        vertical-align: middle;\n    }\n\n    .dataframe tbody tr th {\n        vertical-align: top;\n    }\n\n    .dataframe thead th {\n        text-align: right;\n    }\n</style>\n<table border=\"1\" class=\"dataframe\">\n  <thead>\n    <tr style=\"text-align: right;\">\n      <th></th>\n      <th>Date</th>\n      <th>States</th>\n      <th>Recovery</th>\n      <th>Deaths</th>\n      <th>Confirmed</th>\n      <th>Active</th>\n    </tr>\n  </thead>\n  <tbody>\n    <tr>\n      <th>0</th>\n      <td>2020-01-30</td>\n      <td>Kerala</td>\n      <td>0</td>\n      <td>0</td>\n      <td>1</td>\n      <td>1</td>\n    </tr>\n    <tr>\n      <th>1</th>\n      <td>2020-01-31</td>\n      <td>Kerala</td>\n      <td>0</td>\n      <td>0</td>\n      <td>1</td>\n      <td>1</td>\n    </tr>\n    <tr>\n      <th>2</th>\n      <td>2020-02-01</td>\n      <td>Kerala</td>\n      <td>0</td>\n      <td>0</td>\n      <td>2</td>\n      <td>2</td>\n    </tr>\n    <tr>\n      <th>3</th>\n      <td>2020-02-02</td>\n      <td>Kerala</td>\n      <td>0</td>\n      <td>0</td>\n      <td>3</td>\n      <td>3</td>\n    </tr>\n    <tr>\n      <th>4</th>\n      <td>2020-02-03</td>\n      <td>Kerala</td>\n      <td>0</td>\n      <td>0</td>\n      <td>3</td>\n      <td>3</td>\n    </tr>\n  </tbody>\n</table>\n</div>"
     },
     "metadata": {},
     "execution_count": 6
    }
   ],
   "source": [
    "data['Active'] = data['Confirmed'] - data['Recovery'] - data['Deaths'] \n",
    "\n",
    "data.head()"
   ]
  },
  {
   "source": [
    "## Sort Values By Date and States"
   ],
   "cell_type": "markdown",
   "metadata": {}
  },
  {
   "cell_type": "code",
   "execution_count": 7,
   "metadata": {},
   "outputs": [
    {
     "output_type": "execute_result",
     "data": {
      "text/plain": [
       "            Date         States  Recovery  Deaths  Confirmed  Active\n",
       "0     2020-01-30         Kerala         0       0          1       1\n",
       "1     2020-01-31         Kerala         0       0          1       1\n",
       "2     2020-02-01         Kerala         0       0          2       2\n",
       "3     2020-02-02         Kerala         0       0          3       3\n",
       "4     2020-02-03         Kerala         0       0          3       3\n",
       "...          ...            ...       ...     ...        ...     ...\n",
       "16845 2021-07-07      Telangana    613124    3703     628282   11455\n",
       "16846 2021-07-07        Tripura     63964     701      68612    3947\n",
       "16847 2021-07-07  Uttar Pradesh   1682130   22656    1706818    2032\n",
       "16848 2021-07-07    Uttarakhand    332006    7338     340882    1538\n",
       "16849 2021-07-07    West Bengal   1472132   17834    1507241   17275\n",
       "\n",
       "[16850 rows x 6 columns]"
      ],
      "text/html": "<div>\n<style scoped>\n    .dataframe tbody tr th:only-of-type {\n        vertical-align: middle;\n    }\n\n    .dataframe tbody tr th {\n        vertical-align: top;\n    }\n\n    .dataframe thead th {\n        text-align: right;\n    }\n</style>\n<table border=\"1\" class=\"dataframe\">\n  <thead>\n    <tr style=\"text-align: right;\">\n      <th></th>\n      <th>Date</th>\n      <th>States</th>\n      <th>Recovery</th>\n      <th>Deaths</th>\n      <th>Confirmed</th>\n      <th>Active</th>\n    </tr>\n  </thead>\n  <tbody>\n    <tr>\n      <th>0</th>\n      <td>2020-01-30</td>\n      <td>Kerala</td>\n      <td>0</td>\n      <td>0</td>\n      <td>1</td>\n      <td>1</td>\n    </tr>\n    <tr>\n      <th>1</th>\n      <td>2020-01-31</td>\n      <td>Kerala</td>\n      <td>0</td>\n      <td>0</td>\n      <td>1</td>\n      <td>1</td>\n    </tr>\n    <tr>\n      <th>2</th>\n      <td>2020-02-01</td>\n      <td>Kerala</td>\n      <td>0</td>\n      <td>0</td>\n      <td>2</td>\n      <td>2</td>\n    </tr>\n    <tr>\n      <th>3</th>\n      <td>2020-02-02</td>\n      <td>Kerala</td>\n      <td>0</td>\n      <td>0</td>\n      <td>3</td>\n      <td>3</td>\n    </tr>\n    <tr>\n      <th>4</th>\n      <td>2020-02-03</td>\n      <td>Kerala</td>\n      <td>0</td>\n      <td>0</td>\n      <td>3</td>\n      <td>3</td>\n    </tr>\n    <tr>\n      <th>...</th>\n      <td>...</td>\n      <td>...</td>\n      <td>...</td>\n      <td>...</td>\n      <td>...</td>\n      <td>...</td>\n    </tr>\n    <tr>\n      <th>16845</th>\n      <td>2021-07-07</td>\n      <td>Telangana</td>\n      <td>613124</td>\n      <td>3703</td>\n      <td>628282</td>\n      <td>11455</td>\n    </tr>\n    <tr>\n      <th>16846</th>\n      <td>2021-07-07</td>\n      <td>Tripura</td>\n      <td>63964</td>\n      <td>701</td>\n      <td>68612</td>\n      <td>3947</td>\n    </tr>\n    <tr>\n      <th>16847</th>\n      <td>2021-07-07</td>\n      <td>Uttar Pradesh</td>\n      <td>1682130</td>\n      <td>22656</td>\n      <td>1706818</td>\n      <td>2032</td>\n    </tr>\n    <tr>\n      <th>16848</th>\n      <td>2021-07-07</td>\n      <td>Uttarakhand</td>\n      <td>332006</td>\n      <td>7338</td>\n      <td>340882</td>\n      <td>1538</td>\n    </tr>\n    <tr>\n      <th>16849</th>\n      <td>2021-07-07</td>\n      <td>West Bengal</td>\n      <td>1472132</td>\n      <td>17834</td>\n      <td>1507241</td>\n      <td>17275</td>\n    </tr>\n  </tbody>\n</table>\n<p>16850 rows × 6 columns</p>\n</div>"
     },
     "metadata": {},
     "execution_count": 7
    }
   ],
   "source": [
    "data = data.sort_values(['Date','States']).reset_index(drop=True)\n",
    "\n",
    "data['Date'] = pd.to_datetime(data['Date'])\n",
    "\n",
    "data"
   ]
  },
  {
   "source": [
    "## Get total of all india Recovery, Deaths, Confirmed, Active cases"
   ],
   "cell_type": "markdown",
   "metadata": {}
  },
  {
   "cell_type": "code",
   "execution_count": 8,
   "metadata": {},
   "outputs": [],
   "source": [
    "india_cases = data[data['Date'] == data['Date'].max()].copy().fillna(0)\n",
    "india_cases.index = india_cases['States']\n",
    "india_cases = india_cases.drop(['States','Date'],axis=1)"
   ]
  },
  {
   "cell_type": "code",
   "execution_count": 9,
   "metadata": {},
   "outputs": [
    {
     "output_type": "execute_result",
     "data": {
      "text/plain": [
       "<pandas.io.formats.style.Styler at 0x144cc100>"
      ],
      "text/html": "<style type=\"text/css\">\n#T_f984f_row0_col0 {\n  background-color: #078366;\n  color: #f1f1f1;\n}\n#T_f984f_row0_col1, #T_f984f_row0_col3 {\n  background-color: #ffff66;\n  color: #000000;\n}\n#T_f984f_row0_col2 {\n  background-color: #008066;\n  color: #f1f1f1;\n}\n</style>\n<table id=\"T_f984f_\">\n  <thead>\n    <tr>\n      <th class=\"blank level0\" >&nbsp;</th>\n      <th class=\"col_heading level0 col0\" >Recovery</th>\n      <th class=\"col_heading level0 col1\" >Deaths</th>\n      <th class=\"col_heading level0 col2\" >Confirmed</th>\n      <th class=\"col_heading level0 col3\" >Active</th>\n    </tr>\n  </thead>\n  <tbody>\n    <tr>\n      <th id=\"T_f984f_level0_row0\" class=\"row_heading level0 row0\" >0</th>\n      <td id=\"T_f984f_row0_col0\" class=\"data row0 col0\" >29799534</td>\n      <td id=\"T_f984f_row0_col1\" class=\"data row0 col1\" >404211</td>\n      <td id=\"T_f984f_row0_col2\" class=\"data row0 col2\" >30663665</td>\n      <td id=\"T_f984f_row0_col3\" class=\"data row0 col3\" >459920</td>\n    </tr>\n  </tbody>\n</table>\n"
     },
     "metadata": {},
     "execution_count": 9
    }
   ],
   "source": [
    "df = pd.DataFrame(pd.to_numeric(india_cases.sum()), dtype=int).transpose()\n",
    "df.style.background_gradient(cmap='summer_r',axis=1)"
   ]
  },
  {
   "source": [
    "## Get sorted values by Active cases"
   ],
   "cell_type": "markdown",
   "metadata": {}
  },
  {
   "cell_type": "code",
   "execution_count": 10,
   "metadata": {},
   "outputs": [
    {
     "output_type": "execute_result",
     "data": {
      "text/plain": [
       "<pandas.io.formats.style.Styler at 0x14726af0>"
      ],
      "text/html": "<style type=\"text/css\">\n#T_e87b9_row0_col0 {\n  background-color: #4d004b;\n  color: #f1f1f1;\n}\n#T_e87b9_row0_col1 {\n  background-color: #543005;\n  color: #f1f1f1;\n}\n#T_e87b9_row0_col2, #T_e87b9_row30_col3, #T_e87b9_row31_col3, #T_e87b9_row32_col3, #T_e87b9_row33_col3, #T_e87b9_row34_col3, #T_e87b9_row35_col3 {\n  background-color: #ffffe5;\n  color: #000000;\n}\n#T_e87b9_row0_col3 {\n  background-color: #662506;\n  color: #f1f1f1;\n}\n#T_e87b9_row1_col0 {\n  background-color: #8d99c8;\n  color: #f1f1f1;\n}\n#T_e87b9_row1_col1 {\n  background-color: #066b63;\n  color: #f1f1f1;\n}\n#T_e87b9_row1_col2 {\n  background-color: #74c477;\n  color: #000000;\n}\n#T_e87b9_row1_col3 {\n  background-color: #933204;\n  color: #f1f1f1;\n}\n#T_e87b9_row2_col0 {\n  background-color: #909eca;\n  color: #f1f1f1;\n}\n#T_e87b9_row2_col1 {\n  background-color: #76c6ba;\n  color: #000000;\n}\n#T_e87b9_row2_col2 {\n  background-color: #69bf72;\n  color: #000000;\n}\n#T_e87b9_row2_col3 {\n  background-color: #fecc61;\n  color: #000000;\n}\n#T_e87b9_row3_col0 {\n  background-color: #98b0d3;\n  color: #000000;\n}\n#T_e87b9_row3_col1 {\n  background-color: #67bbb0;\n  color: #000000;\n}\n#T_e87b9_row3_col2 {\n  background-color: #4fb264;\n  color: #f1f1f1;\n}\n#T_e87b9_row3_col3 {\n  background-color: #fed87a;\n  color: #000000;\n}\n#T_e87b9_row4_col0 {\n  background-color: #aec7e0;\n  color: #000000;\n}\n#T_e87b9_row4_col1 {\n  background-color: #02675f;\n  color: #f1f1f1;\n}\n#T_e87b9_row4_col2 {\n  background-color: #31974f;\n  color: #f1f1f1;\n}\n#T_e87b9_row4_col3 {\n  background-color: #fedb80;\n  color: #000000;\n}\n#T_e87b9_row5_col0 {\n  background-color: #dae7f1;\n  color: #000000;\n}\n#T_e87b9_row5_col1, #T_e87b9_row14_col1 {\n  background-color: #00493e;\n  color: #f1f1f1;\n}\n#T_e87b9_row5_col2 {\n  background-color: #076d39;\n  color: #f1f1f1;\n}\n#T_e87b9_row5_col3 {\n  background-color: #fee89d;\n  color: #000000;\n}\n#T_e87b9_row6_col0 {\n  background-color: #e8f1f7;\n  color: #000000;\n}\n#T_e87b9_row6_col1 {\n  background-color: #004b40;\n  color: #f1f1f1;\n}\n#T_e87b9_row6_col2 {\n  background-color: #005c32;\n  color: #f1f1f1;\n}\n#T_e87b9_row6_col3 {\n  background-color: #feeaa1;\n  color: #000000;\n}\n#T_e87b9_row7_col0 {\n  background-color: #c0d4e6;\n  color: #000000;\n}\n#T_e87b9_row7_col1 {\n  background-color: #167a72;\n  color: #f1f1f1;\n}\n#T_e87b9_row7_col2 {\n  background-color: #218242;\n  color: #f1f1f1;\n}\n#T_e87b9_row7_col3 {\n  background-color: #fff4b5;\n  color: #000000;\n}\n#T_e87b9_row8_col0 {\n  background-color: #e4eff6;\n  color: #000000;\n}\n#T_e87b9_row8_col1, #T_e87b9_row23_col1 {\n  background-color: #00483d;\n  color: #f1f1f1;\n}\n#T_e87b9_row8_col2 {\n  background-color: #006234;\n  color: #f1f1f1;\n}\n#T_e87b9_row8_col3 {\n  background-color: #fff9c6;\n  color: #000000;\n}\n#T_e87b9_row9_col0, #T_e87b9_row12_col0, #T_e87b9_row33_col0 {\n  background-color: #f6fbfc;\n  color: #000000;\n}\n#T_e87b9_row9_col1 {\n  background-color: #003f34;\n  color: #f1f1f1;\n}\n#T_e87b9_row9_col2, #T_e87b9_row12_col2, #T_e87b9_row33_col2 {\n  background-color: #00472a;\n  color: #f1f1f1;\n}\n#T_e87b9_row9_col3 {\n  background-color: #fffcd4;\n  color: #000000;\n}\n#T_e87b9_row10_col0 {\n  background-color: #d6e4f0;\n  color: #000000;\n}\n#T_e87b9_row10_col1 {\n  background-color: #046961;\n  color: #f1f1f1;\n}\n#T_e87b9_row10_col2 {\n  background-color: #0a703a;\n  color: #f1f1f1;\n}\n#T_e87b9_row10_col3 {\n  background-color: #fffcd8;\n  color: #000000;\n}\n#T_e87b9_row11_col0, #T_e87b9_row15_col0 {\n  background-color: #f6fbfd;\n  color: #000000;\n}\n#T_e87b9_row11_col1, #T_e87b9_row12_col1, #T_e87b9_row25_col1, #T_e87b9_row33_col1 {\n  background-color: #003e32;\n  color: #f1f1f1;\n}\n#T_e87b9_row11_col2, #T_e87b9_row15_col2 {\n  background-color: #004629;\n  color: #f1f1f1;\n}\n#T_e87b9_row11_col3 {\n  background-color: #fffdd9;\n  color: #000000;\n}\n#T_e87b9_row12_col3 {\n  background-color: #fffddb;\n  color: #000000;\n}\n#T_e87b9_row13_col0, #T_e87b9_row20_col0, #T_e87b9_row25_col0, #T_e87b9_row31_col0, #T_e87b9_row32_col0, #T_e87b9_row34_col0, #T_e87b9_row35_col0 {\n  background-color: #f7fcfd;\n  color: #000000;\n}\n#T_e87b9_row13_col1, #T_e87b9_row15_col1, #T_e87b9_row20_col1, #T_e87b9_row31_col1, #T_e87b9_row32_col1, #T_e87b9_row34_col1, #T_e87b9_row35_col1 {\n  background-color: #003c30;\n  color: #f1f1f1;\n}\n#T_e87b9_row13_col2, #T_e87b9_row20_col2, #T_e87b9_row25_col2, #T_e87b9_row31_col2, #T_e87b9_row32_col2, #T_e87b9_row34_col2, #T_e87b9_row35_col2 {\n  background-color: #004529;\n  color: #f1f1f1;\n}\n#T_e87b9_row13_col3, #T_e87b9_row14_col3 {\n  background-color: #fffddc;\n  color: #000000;\n}\n#T_e87b9_row14_col0 {\n  background-color: #eef5f9;\n  color: #000000;\n}\n#T_e87b9_row14_col2 {\n  background-color: #00522e;\n  color: #f1f1f1;\n}\n#T_e87b9_row15_col3 {\n  background-color: #fffddd;\n  color: #000000;\n}\n#T_e87b9_row16_col0 {\n  background-color: #ddeaf3;\n  color: #000000;\n}\n#T_e87b9_row16_col1 {\n  background-color: #015d54;\n  color: #f1f1f1;\n}\n#T_e87b9_row16_col2 {\n  background-color: #026a38;\n  color: #f1f1f1;\n}\n#T_e87b9_row16_col3, #T_e87b9_row17_col3, #T_e87b9_row18_col3, #T_e87b9_row19_col3, #T_e87b9_row20_col3 {\n  background-color: #fffee0;\n  color: #000000;\n}\n#T_e87b9_row17_col0 {\n  background-color: #b5cce3;\n  color: #000000;\n}\n#T_e87b9_row17_col1 {\n  background-color: #2b8d85;\n  color: #f1f1f1;\n}\n#T_e87b9_row17_col2 {\n  background-color: #2a8d49;\n  color: #f1f1f1;\n}\n#T_e87b9_row18_col0 {\n  background-color: #e6f0f6;\n  color: #000000;\n}\n#T_e87b9_row18_col1 {\n  background-color: #10746c;\n  color: #f1f1f1;\n}\n#T_e87b9_row18_col2 {\n  background-color: #005f34;\n  color: #f1f1f1;\n}\n#T_e87b9_row19_col0 {\n  background-color: #f3f9fb;\n  color: #000000;\n}\n#T_e87b9_row19_col1 {\n  background-color: #00463b;\n  color: #f1f1f1;\n}\n#T_e87b9_row19_col2 {\n  background-color: #004c2c;\n  color: #f1f1f1;\n}\n#T_e87b9_row21_col0 {\n  background-color: #f4fafc;\n  color: #000000;\n}\n#T_e87b9_row21_col1 {\n  background-color: #004135;\n  color: #f1f1f1;\n}\n#T_e87b9_row21_col2 {\n  background-color: #00492b;\n  color: #f1f1f1;\n}\n#T_e87b9_row21_col3, #T_e87b9_row22_col3 {\n  background-color: #fffee1;\n  color: #000000;\n}\n#T_e87b9_row22_col0, #T_e87b9_row29_col0 {\n  background-color: #edf5f9;\n  color: #000000;\n}\n#T_e87b9_row22_col1 {\n  background-color: #01554b;\n  color: #f1f1f1;\n}\n#T_e87b9_row22_col2 {\n  background-color: #00532f;\n  color: #f1f1f1;\n}\n#T_e87b9_row23_col0 {\n  background-color: #f1f8fb;\n  color: #000000;\n}\n#T_e87b9_row23_col2 {\n  background-color: #004e2d;\n  color: #f1f1f1;\n}\n#T_e87b9_row23_col3, #T_e87b9_row24_col3, #T_e87b9_row25_col3, #T_e87b9_row26_col3, #T_e87b9_row27_col3 {\n  background-color: #fffee2;\n  color: #000000;\n}\n#T_e87b9_row24_col0 {\n  background-color: #e1edf5;\n  color: #000000;\n}\n#T_e87b9_row24_col1, #T_e87b9_row26_col1 {\n  background-color: #015b52;\n  color: #f1f1f1;\n}\n#T_e87b9_row24_col2 {\n  background-color: #006536;\n  color: #f1f1f1;\n}\n#T_e87b9_row26_col0 {\n  background-color: #e0ecf4;\n  color: #000000;\n}\n#T_e87b9_row26_col2 {\n  background-color: #006737;\n  color: #f1f1f1;\n}\n#T_e87b9_row27_col0 {\n  background-color: #d8e6f0;\n  color: #000000;\n}\n#T_e87b9_row27_col1, #T_e87b9_row30_col1 {\n  background-color: #015a50;\n  color: #f1f1f1;\n}\n#T_e87b9_row27_col2 {\n  background-color: #086e3a;\n  color: #f1f1f1;\n}\n#T_e87b9_row28_col0 {\n  background-color: #c2d5e7;\n  color: #000000;\n}\n#T_e87b9_row28_col1 {\n  background-color: #35978f;\n  color: #f1f1f1;\n}\n#T_e87b9_row28_col2 {\n  background-color: #1e8041;\n  color: #f1f1f1;\n}\n#T_e87b9_row28_col3, #T_e87b9_row29_col3 {\n  background-color: #ffffe4;\n  color: #000000;\n}\n#T_e87b9_row29_col1 {\n  background-color: #004c42;\n  color: #f1f1f1;\n}\n#T_e87b9_row29_col2 {\n  background-color: #00542f;\n  color: #f1f1f1;\n}\n#T_e87b9_row30_col0 {\n  background-color: #dfebf4;\n  color: #000000;\n}\n#T_e87b9_row30_col2 {\n  background-color: #006837;\n  color: #f1f1f1;\n}\n</style>\n<table id=\"T_e87b9_\">\n  <thead>\n    <tr>\n      <th class=\"blank level0\" >&nbsp;</th>\n      <th class=\"col_heading level0 col0\" >Recovery</th>\n      <th class=\"col_heading level0 col1\" >Deaths</th>\n      <th class=\"col_heading level0 col2\" >Confirmed</th>\n      <th class=\"col_heading level0 col3\" >Active</th>\n    </tr>\n    <tr>\n      <th class=\"index_name level0\" >States</th>\n      <th class=\"blank col0\" >&nbsp;</th>\n      <th class=\"blank col1\" >&nbsp;</th>\n      <th class=\"blank col2\" >&nbsp;</th>\n      <th class=\"blank col3\" >&nbsp;</th>\n    </tr>\n  </thead>\n  <tbody>\n    <tr>\n      <th id=\"T_e87b9_level0_row0\" class=\"row_heading level0 row0\" >Maharashtra</th>\n      <td id=\"T_e87b9_row0_col0\" class=\"data row0 col0\" >5872268</td>\n      <td id=\"T_e87b9_row0_col1\" class=\"data row0 col1\" >123531</td>\n      <td id=\"T_e87b9_row0_col2\" class=\"data row0 col2\" >6113335</td>\n      <td id=\"T_e87b9_row0_col3\" class=\"data row0 col3\" >117536</td>\n    </tr>\n    <tr>\n      <th id=\"T_e87b9_level0_row1\" class=\"row_heading level0 row1\" >Kerala</th>\n      <td id=\"T_e87b9_row1_col0\" class=\"data row1 col0\" >2877557</td>\n      <td id=\"T_e87b9_row1_col1\" class=\"data row1 col1\" >13960</td>\n      <td id=\"T_e87b9_row1_col2\" class=\"data row1 col2\" >2996094</td>\n      <td id=\"T_e87b9_row1_col3\" class=\"data row1 col3\" >104577</td>\n    </tr>\n    <tr>\n      <th id=\"T_e87b9_level0_row2\" class=\"row_heading level0 row2\" >Karnataka</th>\n      <td id=\"T_e87b9_row2_col0\" class=\"data row2 col0\" >2784030</td>\n      <td id=\"T_e87b9_row2_col1\" class=\"data row2 col1\" >35526</td>\n      <td id=\"T_e87b9_row2_col2\" class=\"data row2 col2\" >2859595</td>\n      <td id=\"T_e87b9_row2_col3\" class=\"data row2 col3\" >40039</td>\n    </tr>\n    <tr>\n      <th id=\"T_e87b9_level0_row3\" class=\"row_heading level0 row3\" >Tamil Nadu</th>\n      <td id=\"T_e87b9_row3_col0\" class=\"data row3 col0\" >2435872</td>\n      <td id=\"T_e87b9_row3_col1\" class=\"data row3 col1\" >33132</td>\n      <td id=\"T_e87b9_row3_col2\" class=\"data row3 col2\" >2503481</td>\n      <td id=\"T_e87b9_row3_col3\" class=\"data row3 col3\" >34477</td>\n    </tr>\n    <tr>\n      <th id=\"T_e87b9_level0_row4\" class=\"row_heading level0 row4\" >Andhra Pradesh</th>\n      <td id=\"T_e87b9_row4_col0\" class=\"data row4 col0\" >1861937</td>\n      <td id=\"T_e87b9_row4_col1\" class=\"data row4 col1\" >12898</td>\n      <td id=\"T_e87b9_row4_col2\" class=\"data row4 col2\" >1908065</td>\n      <td id=\"T_e87b9_row4_col3\" class=\"data row4 col3\" >33230</td>\n    </tr>\n    <tr>\n      <th id=\"T_e87b9_level0_row5\" class=\"row_heading level0 row5\" >Odisha</th>\n      <td id=\"T_e87b9_row5_col0\" class=\"data row5 col0\" >897362</td>\n      <td id=\"T_e87b9_row5_col1\" class=\"data row5 col1\" >4299</td>\n      <td id=\"T_e87b9_row5_col2\" class=\"data row5 col2\" >927186</td>\n      <td id=\"T_e87b9_row5_col3\" class=\"data row5 col3\" >25525</td>\n    </tr>\n    <tr>\n      <th id=\"T_e87b9_level0_row6\" class=\"row_heading level0 row6\" >Assam</th>\n      <td id=\"T_e87b9_row6_col0\" class=\"data row6 col0\" >493306</td>\n      <td id=\"T_e87b9_row6_col1\" class=\"data row6 col1\" >4717</td>\n      <td id=\"T_e87b9_row6_col2\" class=\"data row6 col2\" >522267</td>\n      <td id=\"T_e87b9_row6_col3\" class=\"data row6 col3\" >24244</td>\n    </tr>\n    <tr>\n      <th id=\"T_e87b9_level0_row7\" class=\"row_heading level0 row7\" >West Bengal</th>\n      <td id=\"T_e87b9_row7_col0\" class=\"data row7 col0\" >1472132</td>\n      <td id=\"T_e87b9_row7_col1\" class=\"data row7 col1\" >17834</td>\n      <td id=\"T_e87b9_row7_col2\" class=\"data row7 col2\" >1507241</td>\n      <td id=\"T_e87b9_row7_col3\" class=\"data row7 col3\" >17275</td>\n    </tr>\n    <tr>\n      <th id=\"T_e87b9_level0_row8\" class=\"row_heading level0 row8\" >Telangana</th>\n      <td id=\"T_e87b9_row8_col0\" class=\"data row8 col0\" >613124</td>\n      <td id=\"T_e87b9_row8_col1\" class=\"data row8 col1\" >3703</td>\n      <td id=\"T_e87b9_row8_col2\" class=\"data row8 col2\" >628282</td>\n      <td id=\"T_e87b9_row8_col3\" class=\"data row8 col3\" >11455</td>\n    </tr>\n    <tr>\n      <th id=\"T_e87b9_level0_row9\" class=\"row_heading level0 row9\" >Manipur</th>\n      <td id=\"T_e87b9_row9_col0\" class=\"data row9 col0\" >66132</td>\n      <td id=\"T_e87b9_row9_col1\" class=\"data row9 col1\" >1218</td>\n      <td id=\"T_e87b9_row9_col2\" class=\"data row9 col2\" >73581</td>\n      <td id=\"T_e87b9_row9_col3\" class=\"data row9 col3\" >6231</td>\n    </tr>\n    <tr>\n      <th id=\"T_e87b9_level0_row10\" class=\"row_heading level0 row10\" >Chhattisgarh</th>\n      <td id=\"T_e87b9_row10_col0\" class=\"data row10 col0\" >977893</td>\n      <td id=\"T_e87b9_row10_col1\" class=\"data row10 col1\" >13462</td>\n      <td id=\"T_e87b9_row10_col2\" class=\"data row10 col2\" >996359</td>\n      <td id=\"T_e87b9_row10_col3\" class=\"data row10 col3\" >5004</td>\n    </tr>\n    <tr>\n      <th id=\"T_e87b9_level0_row11\" class=\"row_heading level0 row11\" >Meghalaya</th>\n      <td id=\"T_e87b9_row11_col0\" class=\"data row11 col0\" >47173</td>\n      <td id=\"T_e87b9_row11_col1\" class=\"data row11 col1\" >880</td>\n      <td id=\"T_e87b9_row11_col2\" class=\"data row11 col2\" >52358</td>\n      <td id=\"T_e87b9_row11_col3\" class=\"data row11 col3\" >4305</td>\n    </tr>\n    <tr>\n      <th id=\"T_e87b9_level0_row12\" class=\"row_heading level0 row12\" >Tripura</th>\n      <td id=\"T_e87b9_row12_col0\" class=\"data row12 col0\" >63964</td>\n      <td id=\"T_e87b9_row12_col1\" class=\"data row12 col1\" >701</td>\n      <td id=\"T_e87b9_row12_col2\" class=\"data row12 col2\" >68612</td>\n      <td id=\"T_e87b9_row12_col3\" class=\"data row12 col3\" >3947</td>\n    </tr>\n    <tr>\n      <th id=\"T_e87b9_level0_row13\" class=\"row_heading level0 row13\" >Mizoram</th>\n      <td id=\"T_e87b9_row13_col0\" class=\"data row13 col0\" >18383</td>\n      <td id=\"T_e87b9_row13_col1\" class=\"data row13 col1\" >98</td>\n      <td id=\"T_e87b9_row13_col2\" class=\"data row13 col2\" >22155</td>\n      <td id=\"T_e87b9_row13_col3\" class=\"data row13 col3\" >3674</td>\n    </tr>\n    <tr>\n      <th id=\"T_e87b9_level0_row14\" class=\"row_heading level0 row14\" >Jammu and Kashmir</th>\n      <td id=\"T_e87b9_row14_col0\" class=\"data row14 col0\" >309554</td>\n      <td id=\"T_e87b9_row14_col1\" class=\"data row14 col1\" >4345</td>\n      <td id=\"T_e87b9_row14_col2\" class=\"data row14 col2\" >317481</td>\n      <td id=\"T_e87b9_row14_col3\" class=\"data row14 col3\" >3582</td>\n    </tr>\n    <tr>\n      <th id=\"T_e87b9_level0_row15\" class=\"row_heading level0 row15\" >Arunachal Pradesh</th>\n      <td id=\"T_e87b9_row15_col0\" class=\"data row15 col0\" >34525</td>\n      <td id=\"T_e87b9_row15_col1\" class=\"data row15 col1\" >181</td>\n      <td id=\"T_e87b9_row15_col2\" class=\"data row15 col2\" >37879</td>\n      <td id=\"T_e87b9_row15_col3\" class=\"data row15 col3\" >3173</td>\n    </tr>\n    <tr>\n      <th id=\"T_e87b9_level0_row16\" class=\"row_heading level0 row16\" >Gujarat</th>\n      <td id=\"T_e87b9_row16_col0\" class=\"data row16 col0\" >811699</td>\n      <td id=\"T_e87b9_row16_col1\" class=\"data row16 col1\" >10072</td>\n      <td id=\"T_e87b9_row16_col2\" class=\"data row16 col2\" >823964</td>\n      <td id=\"T_e87b9_row16_col3\" class=\"data row16 col3\" >2193</td>\n    </tr>\n    <tr>\n      <th id=\"T_e87b9_level0_row17\" class=\"row_heading level0 row17\" >Uttar Pradesh</th>\n      <td id=\"T_e87b9_row17_col0\" class=\"data row17 col0\" >1682130</td>\n      <td id=\"T_e87b9_row17_col1\" class=\"data row17 col1\" >22656</td>\n      <td id=\"T_e87b9_row17_col2\" class=\"data row17 col2\" >1706818</td>\n      <td id=\"T_e87b9_row17_col3\" class=\"data row17 col3\" >2032</td>\n    </tr>\n    <tr>\n      <th id=\"T_e87b9_level0_row18\" class=\"row_heading level0 row18\" >Punjab</th>\n      <td id=\"T_e87b9_row18_col0\" class=\"data row18 col0\" >578590</td>\n      <td id=\"T_e87b9_row18_col1\" class=\"data row18 col1\" >16131</td>\n      <td id=\"T_e87b9_row18_col2\" class=\"data row18 col2\" >596736</td>\n      <td id=\"T_e87b9_row18_col3\" class=\"data row18 col3\" >2015</td>\n    </tr>\n    <tr>\n      <th id=\"T_e87b9_level0_row19\" class=\"row_heading level0 row19\" >Goa</th>\n      <td id=\"T_e87b9_row19_col0\" class=\"data row19 col0\" >162787</td>\n      <td id=\"T_e87b9_row19_col1\" class=\"data row19 col1\" >3079</td>\n      <td id=\"T_e87b9_row19_col2\" class=\"data row19 col2\" >167823</td>\n      <td id=\"T_e87b9_row19_col3\" class=\"data row19 col3\" >1957</td>\n    </tr>\n    <tr>\n      <th id=\"T_e87b9_level0_row20\" class=\"row_heading level0 row20\" >Sikkim</th>\n      <td id=\"T_e87b9_row20_col0\" class=\"data row20 col0\" >19200</td>\n      <td id=\"T_e87b9_row20_col1\" class=\"data row20 col1\" >309</td>\n      <td id=\"T_e87b9_row20_col2\" class=\"data row20 col2\" >21403</td>\n      <td id=\"T_e87b9_row20_col3\" class=\"data row20 col3\" >1894</td>\n    </tr>\n    <tr>\n      <th id=\"T_e87b9_level0_row21\" class=\"row_heading level0 row21\" >Puducherry</th>\n      <td id=\"T_e87b9_row21_col0\" class=\"data row21 col0\" >114673</td>\n      <td id=\"T_e87b9_row21_col1\" class=\"data row21 col1\" >1763</td>\n      <td id=\"T_e87b9_row21_col2\" class=\"data row21 col2\" >118227</td>\n      <td id=\"T_e87b9_row21_col3\" class=\"data row21 col3\" >1791</td>\n    </tr>\n    <tr>\n      <th id=\"T_e87b9_level0_row22\" class=\"row_heading level0 row22\" >Uttarakhand</th>\n      <td id=\"T_e87b9_row22_col0\" class=\"data row22 col0\" >332006</td>\n      <td id=\"T_e87b9_row22_col1\" class=\"data row22 col1\" >7338</td>\n      <td id=\"T_e87b9_row22_col2\" class=\"data row22 col2\" >340882</td>\n      <td id=\"T_e87b9_row22_col3\" class=\"data row22 col3\" >1538</td>\n    </tr>\n    <tr>\n      <th id=\"T_e87b9_level0_row23\" class=\"row_heading level0 row23\" >Himachal Pradesh</th>\n      <td id=\"T_e87b9_row23_col0\" class=\"data row23 col0\" >198134</td>\n      <td id=\"T_e87b9_row23_col1\" class=\"data row23 col1\" >3485</td>\n      <td id=\"T_e87b9_row23_col2\" class=\"data row23 col2\" >202945</td>\n      <td id=\"T_e87b9_row23_col3\" class=\"data row23 col3\" >1326</td>\n    </tr>\n    <tr>\n      <th id=\"T_e87b9_level0_row24\" class=\"row_heading level0 row24\" >Bihar</th>\n      <td id=\"T_e87b9_row24_col0\" class=\"data row24 col0\" >711913</td>\n      <td id=\"T_e87b9_row24_col1\" class=\"data row24 col1\" >9612</td>\n      <td id=\"T_e87b9_row24_col2\" class=\"data row24 col2\" >722746</td>\n      <td id=\"T_e87b9_row24_col3\" class=\"data row24 col3\" >1221</td>\n    </tr>\n    <tr>\n      <th id=\"T_e87b9_level0_row25\" class=\"row_heading level0 row25\" >Nagaland</th>\n      <td id=\"T_e87b9_row25_col0\" class=\"data row25 col0\" >23982</td>\n      <td id=\"T_e87b9_row25_col1\" class=\"data row25 col1\" >503</td>\n      <td id=\"T_e87b9_row25_col2\" class=\"data row25 col2\" >25619</td>\n      <td id=\"T_e87b9_row25_col3\" class=\"data row25 col3\" >1134</td>\n    </tr>\n    <tr>\n      <th id=\"T_e87b9_level0_row26\" class=\"row_heading level0 row26\" >Haryana</th>\n      <td id=\"T_e87b9_row26_col0\" class=\"data row26 col0\" >758442</td>\n      <td id=\"T_e87b9_row26_col1\" class=\"data row26 col1\" >9506</td>\n      <td id=\"T_e87b9_row26_col2\" class=\"data row26 col2\" >769030</td>\n      <td id=\"T_e87b9_row26_col3\" class=\"data row26 col3\" >1082</td>\n    </tr>\n    <tr>\n      <th id=\"T_e87b9_level0_row27\" class=\"row_heading level0 row27\" >Rajasthan</th>\n      <td id=\"T_e87b9_row27_col0\" class=\"data row27 col0\" >942882</td>\n      <td id=\"T_e87b9_row27_col1\" class=\"data row27 col1\" >8942</td>\n      <td id=\"T_e87b9_row27_col2\" class=\"data row27 col2\" >952836</td>\n      <td id=\"T_e87b9_row27_col3\" class=\"data row27 col3\" >1012</td>\n    </tr>\n    <tr>\n      <th id=\"T_e87b9_level0_row28\" class=\"row_heading level0 row28\" >Delhi</th>\n      <td id=\"T_e87b9_row28_col0\" class=\"data row28 col0\" >1408853</td>\n      <td id=\"T_e87b9_row28_col1\" class=\"data row28 col1\" >25001</td>\n      <td id=\"T_e87b9_row28_col2\" class=\"data row28 col2\" >1434687</td>\n      <td id=\"T_e87b9_row28_col3\" class=\"data row28 col3\" >833</td>\n    </tr>\n    <tr>\n      <th id=\"T_e87b9_level0_row29\" class=\"row_heading level0 row29\" >Jharkhand</th>\n      <td id=\"T_e87b9_row29_col0\" class=\"data row29 col0\" >340365</td>\n      <td id=\"T_e87b9_row29_col1\" class=\"data row29 col1\" >5118</td>\n      <td id=\"T_e87b9_row29_col2\" class=\"data row29 col2\" >346038</td>\n      <td id=\"T_e87b9_row29_col3\" class=\"data row29 col3\" >555</td>\n    </tr>\n    <tr>\n      <th id=\"T_e87b9_level0_row30\" class=\"row_heading level0 row30\" >Madhya Pradesh</th>\n      <td id=\"T_e87b9_row30_col0\" class=\"data row30 col0\" >780578</td>\n      <td id=\"T_e87b9_row30_col1\" class=\"data row30 col1\" >9017</td>\n      <td id=\"T_e87b9_row30_col2\" class=\"data row30 col2\" >790042</td>\n      <td id=\"T_e87b9_row30_col3\" class=\"data row30 col3\" >447</td>\n    </tr>\n    <tr>\n      <th id=\"T_e87b9_level0_row31\" class=\"row_heading level0 row31\" >Lakshadweep</th>\n      <td id=\"T_e87b9_row31_col0\" class=\"data row31 col0\" >9643</td>\n      <td id=\"T_e87b9_row31_col1\" class=\"data row31 col1\" >49</td>\n      <td id=\"T_e87b9_row31_col2\" class=\"data row31 col2\" >9947</td>\n      <td id=\"T_e87b9_row31_col3\" class=\"data row31 col3\" >255</td>\n    </tr>\n    <tr>\n      <th id=\"T_e87b9_level0_row32\" class=\"row_heading level0 row32\" >Ladakh</th>\n      <td id=\"T_e87b9_row32_col0\" class=\"data row32 col0\" >19733</td>\n      <td id=\"T_e87b9_row32_col1\" class=\"data row32 col1\" >204</td>\n      <td id=\"T_e87b9_row32_col2\" class=\"data row32 col2\" >20137</td>\n      <td id=\"T_e87b9_row32_col3\" class=\"data row32 col3\" >200</td>\n    </tr>\n    <tr>\n      <th id=\"T_e87b9_level0_row33\" class=\"row_heading level0 row33\" >Chandigarh</th>\n      <td id=\"T_e87b9_row33_col0\" class=\"data row33 col0\" >60837</td>\n      <td id=\"T_e87b9_row33_col1\" class=\"data row33 col1\" >809</td>\n      <td id=\"T_e87b9_row33_col2\" class=\"data row33 col2\" >61752</td>\n      <td id=\"T_e87b9_row33_col3\" class=\"data row33 col3\" >106</td>\n    </tr>\n    <tr>\n      <th id=\"T_e87b9_level0_row34\" class=\"row_heading level0 row34\" >Dadra and Nagar Haveli and Daman and Diu</th>\n      <td id=\"T_e87b9_row34_col0\" class=\"data row34 col0\" >10532</td>\n      <td id=\"T_e87b9_row34_col1\" class=\"data row34 col1\" >4</td>\n      <td id=\"T_e87b9_row34_col2\" class=\"data row34 col2\" >10575</td>\n      <td id=\"T_e87b9_row34_col3\" class=\"data row34 col3\" >39</td>\n    </tr>\n    <tr>\n      <th id=\"T_e87b9_level0_row35\" class=\"row_heading level0 row35\" >Andaman and Nicobar Islands</th>\n      <td id=\"T_e87b9_row35_col0\" class=\"data row35 col0\" >7343</td>\n      <td id=\"T_e87b9_row35_col1\" class=\"data row35 col1\" >128</td>\n      <td id=\"T_e87b9_row35_col2\" class=\"data row35 col2\" >7487</td>\n      <td id=\"T_e87b9_row35_col3\" class=\"data row35 col3\" >16</td>\n    </tr>\n  </tbody>\n</table>\n"
     },
     "metadata": {},
     "execution_count": 10
    }
   ],
   "source": [
    "india_cases.sort_values('Active',ascending=False).style\\\n",
    "    .background_gradient(cmap='YlGn_r',subset=['Confirmed'])\\\n",
    "    .background_gradient(cmap='BrBG_r',subset=['Deaths'])\\\n",
    "    .background_gradient(cmap='BuPu',subset=['Recovery'])\\\n",
    "    .background_gradient(cmap='YlOrBr',subset=['Active'])"
   ]
  },
  {
   "source": [
    "## Imports For Charts"
   ],
   "cell_type": "markdown",
   "metadata": {}
  },
  {
   "cell_type": "code",
   "execution_count": 11,
   "metadata": {},
   "outputs": [],
   "source": [
    "import plotly.express as px\n",
    "import plotly.graph_objects as go\n",
    "import plotly.figure_factory as ff\n",
    "from plotly.subplots import make_subplots\n",
    "from plotly.offline import init_notebook_mode, iplot"
   ]
  },
  {
   "source": [
    "Function for show charts"
   ],
   "cell_type": "markdown",
   "metadata": {}
  },
  {
   "cell_type": "code",
   "execution_count": 12,
   "metadata": {},
   "outputs": [],
   "source": [
    "def horizontal_bar_chart(df,x,y,title,x_lable,y_lable,color):\n",
    "    fig = px.bar(df, x=x, y=y, orientation='h', title=title, labels={x.name: x_lable,y.name:y_lable},color_discrete_sequence=[color])\n",
    "    fig.update_layout(yaxis={'categoryorder':'total ascending'})\n",
    "    fig.show()"
   ]
  },
  {
   "cell_type": "code",
   "execution_count": 13,
   "metadata": {},
   "outputs": [],
   "source": [
    "cnf,dht,rec,act = '#393e46', '#33ccff', '#ff99cc', '#fe9801'"
   ]
  },
  {
   "source": [
    "## Get Top 10 States with most confirmed cases"
   ],
   "cell_type": "markdown",
   "metadata": {}
  },
  {
   "cell_type": "code",
   "execution_count": 14,
   "metadata": {},
   "outputs": [
    {
     "output_type": "display_data",
     "data": {
      "application/vnd.plotly.v1+json": {
       "config": {
        "plotlyServerURL": "https://plot.ly"
       },
       "data": [
        {
         "alignmentgroup": "True",
         "hovertemplate": "Number of confirmed cases=%{x}<br>State Name=%{y}<extra></extra>",
         "legendgroup": "",
         "marker": {
          "color": "#393e46",
          "pattern": {
           "shape": ""
          }
         },
         "name": "",
         "offsetgroup": "",
         "orientation": "h",
         "showlegend": false,
         "textposition": "auto",
         "type": "bar",
         "x": [
          6113335,
          2996094,
          2859595,
          2503481,
          1908065,
          1706818,
          1507241,
          1434687,
          996359,
          952836
         ],
         "xaxis": "x",
         "y": [
          "Maharashtra",
          "Kerala",
          "Karnataka",
          "Tamil Nadu",
          "Andhra Pradesh",
          "Uttar Pradesh",
          "West Bengal",
          "Delhi",
          "Chhattisgarh",
          "Rajasthan"
         ],
         "yaxis": "y"
        }
       ],
       "layout": {
        "barmode": "relative",
        "legend": {
         "tracegroupgap": 0
        },
        "template": {
         "data": {
          "bar": [
           {
            "error_x": {
             "color": "#2a3f5f"
            },
            "error_y": {
             "color": "#2a3f5f"
            },
            "marker": {
             "line": {
              "color": "#E5ECF6",
              "width": 0.5
             },
             "pattern": {
              "fillmode": "overlay",
              "size": 10,
              "solidity": 0.2
             }
            },
            "type": "bar"
           }
          ],
          "barpolar": [
           {
            "marker": {
             "line": {
              "color": "#E5ECF6",
              "width": 0.5
             },
             "pattern": {
              "fillmode": "overlay",
              "size": 10,
              "solidity": 0.2
             }
            },
            "type": "barpolar"
           }
          ],
          "carpet": [
           {
            "aaxis": {
             "endlinecolor": "#2a3f5f",
             "gridcolor": "white",
             "linecolor": "white",
             "minorgridcolor": "white",
             "startlinecolor": "#2a3f5f"
            },
            "baxis": {
             "endlinecolor": "#2a3f5f",
             "gridcolor": "white",
             "linecolor": "white",
             "minorgridcolor": "white",
             "startlinecolor": "#2a3f5f"
            },
            "type": "carpet"
           }
          ],
          "choropleth": [
           {
            "colorbar": {
             "outlinewidth": 0,
             "ticks": ""
            },
            "type": "choropleth"
           }
          ],
          "contour": [
           {
            "colorbar": {
             "outlinewidth": 0,
             "ticks": ""
            },
            "colorscale": [
             [
              0,
              "#0d0887"
             ],
             [
              0.1111111111111111,
              "#46039f"
             ],
             [
              0.2222222222222222,
              "#7201a8"
             ],
             [
              0.3333333333333333,
              "#9c179e"
             ],
             [
              0.4444444444444444,
              "#bd3786"
             ],
             [
              0.5555555555555556,
              "#d8576b"
             ],
             [
              0.6666666666666666,
              "#ed7953"
             ],
             [
              0.7777777777777778,
              "#fb9f3a"
             ],
             [
              0.8888888888888888,
              "#fdca26"
             ],
             [
              1,
              "#f0f921"
             ]
            ],
            "type": "contour"
           }
          ],
          "contourcarpet": [
           {
            "colorbar": {
             "outlinewidth": 0,
             "ticks": ""
            },
            "type": "contourcarpet"
           }
          ],
          "heatmap": [
           {
            "colorbar": {
             "outlinewidth": 0,
             "ticks": ""
            },
            "colorscale": [
             [
              0,
              "#0d0887"
             ],
             [
              0.1111111111111111,
              "#46039f"
             ],
             [
              0.2222222222222222,
              "#7201a8"
             ],
             [
              0.3333333333333333,
              "#9c179e"
             ],
             [
              0.4444444444444444,
              "#bd3786"
             ],
             [
              0.5555555555555556,
              "#d8576b"
             ],
             [
              0.6666666666666666,
              "#ed7953"
             ],
             [
              0.7777777777777778,
              "#fb9f3a"
             ],
             [
              0.8888888888888888,
              "#fdca26"
             ],
             [
              1,
              "#f0f921"
             ]
            ],
            "type": "heatmap"
           }
          ],
          "heatmapgl": [
           {
            "colorbar": {
             "outlinewidth": 0,
             "ticks": ""
            },
            "colorscale": [
             [
              0,
              "#0d0887"
             ],
             [
              0.1111111111111111,
              "#46039f"
             ],
             [
              0.2222222222222222,
              "#7201a8"
             ],
             [
              0.3333333333333333,
              "#9c179e"
             ],
             [
              0.4444444444444444,
              "#bd3786"
             ],
             [
              0.5555555555555556,
              "#d8576b"
             ],
             [
              0.6666666666666666,
              "#ed7953"
             ],
             [
              0.7777777777777778,
              "#fb9f3a"
             ],
             [
              0.8888888888888888,
              "#fdca26"
             ],
             [
              1,
              "#f0f921"
             ]
            ],
            "type": "heatmapgl"
           }
          ],
          "histogram": [
           {
            "marker": {
             "pattern": {
              "fillmode": "overlay",
              "size": 10,
              "solidity": 0.2
             }
            },
            "type": "histogram"
           }
          ],
          "histogram2d": [
           {
            "colorbar": {
             "outlinewidth": 0,
             "ticks": ""
            },
            "colorscale": [
             [
              0,
              "#0d0887"
             ],
             [
              0.1111111111111111,
              "#46039f"
             ],
             [
              0.2222222222222222,
              "#7201a8"
             ],
             [
              0.3333333333333333,
              "#9c179e"
             ],
             [
              0.4444444444444444,
              "#bd3786"
             ],
             [
              0.5555555555555556,
              "#d8576b"
             ],
             [
              0.6666666666666666,
              "#ed7953"
             ],
             [
              0.7777777777777778,
              "#fb9f3a"
             ],
             [
              0.8888888888888888,
              "#fdca26"
             ],
             [
              1,
              "#f0f921"
             ]
            ],
            "type": "histogram2d"
           }
          ],
          "histogram2dcontour": [
           {
            "colorbar": {
             "outlinewidth": 0,
             "ticks": ""
            },
            "colorscale": [
             [
              0,
              "#0d0887"
             ],
             [
              0.1111111111111111,
              "#46039f"
             ],
             [
              0.2222222222222222,
              "#7201a8"
             ],
             [
              0.3333333333333333,
              "#9c179e"
             ],
             [
              0.4444444444444444,
              "#bd3786"
             ],
             [
              0.5555555555555556,
              "#d8576b"
             ],
             [
              0.6666666666666666,
              "#ed7953"
             ],
             [
              0.7777777777777778,
              "#fb9f3a"
             ],
             [
              0.8888888888888888,
              "#fdca26"
             ],
             [
              1,
              "#f0f921"
             ]
            ],
            "type": "histogram2dcontour"
           }
          ],
          "mesh3d": [
           {
            "colorbar": {
             "outlinewidth": 0,
             "ticks": ""
            },
            "type": "mesh3d"
           }
          ],
          "parcoords": [
           {
            "line": {
             "colorbar": {
              "outlinewidth": 0,
              "ticks": ""
             }
            },
            "type": "parcoords"
           }
          ],
          "pie": [
           {
            "automargin": true,
            "type": "pie"
           }
          ],
          "scatter": [
           {
            "marker": {
             "colorbar": {
              "outlinewidth": 0,
              "ticks": ""
             }
            },
            "type": "scatter"
           }
          ],
          "scatter3d": [
           {
            "line": {
             "colorbar": {
              "outlinewidth": 0,
              "ticks": ""
             }
            },
            "marker": {
             "colorbar": {
              "outlinewidth": 0,
              "ticks": ""
             }
            },
            "type": "scatter3d"
           }
          ],
          "scattercarpet": [
           {
            "marker": {
             "colorbar": {
              "outlinewidth": 0,
              "ticks": ""
             }
            },
            "type": "scattercarpet"
           }
          ],
          "scattergeo": [
           {
            "marker": {
             "colorbar": {
              "outlinewidth": 0,
              "ticks": ""
             }
            },
            "type": "scattergeo"
           }
          ],
          "scattergl": [
           {
            "marker": {
             "colorbar": {
              "outlinewidth": 0,
              "ticks": ""
             }
            },
            "type": "scattergl"
           }
          ],
          "scattermapbox": [
           {
            "marker": {
             "colorbar": {
              "outlinewidth": 0,
              "ticks": ""
             }
            },
            "type": "scattermapbox"
           }
          ],
          "scatterpolar": [
           {
            "marker": {
             "colorbar": {
              "outlinewidth": 0,
              "ticks": ""
             }
            },
            "type": "scatterpolar"
           }
          ],
          "scatterpolargl": [
           {
            "marker": {
             "colorbar": {
              "outlinewidth": 0,
              "ticks": ""
             }
            },
            "type": "scatterpolargl"
           }
          ],
          "scatterternary": [
           {
            "marker": {
             "colorbar": {
              "outlinewidth": 0,
              "ticks": ""
             }
            },
            "type": "scatterternary"
           }
          ],
          "surface": [
           {
            "colorbar": {
             "outlinewidth": 0,
             "ticks": ""
            },
            "colorscale": [
             [
              0,
              "#0d0887"
             ],
             [
              0.1111111111111111,
              "#46039f"
             ],
             [
              0.2222222222222222,
              "#7201a8"
             ],
             [
              0.3333333333333333,
              "#9c179e"
             ],
             [
              0.4444444444444444,
              "#bd3786"
             ],
             [
              0.5555555555555556,
              "#d8576b"
             ],
             [
              0.6666666666666666,
              "#ed7953"
             ],
             [
              0.7777777777777778,
              "#fb9f3a"
             ],
             [
              0.8888888888888888,
              "#fdca26"
             ],
             [
              1,
              "#f0f921"
             ]
            ],
            "type": "surface"
           }
          ],
          "table": [
           {
            "cells": {
             "fill": {
              "color": "#EBF0F8"
             },
             "line": {
              "color": "white"
             }
            },
            "header": {
             "fill": {
              "color": "#C8D4E3"
             },
             "line": {
              "color": "white"
             }
            },
            "type": "table"
           }
          ]
         },
         "layout": {
          "annotationdefaults": {
           "arrowcolor": "#2a3f5f",
           "arrowhead": 0,
           "arrowwidth": 1
          },
          "autotypenumbers": "strict",
          "coloraxis": {
           "colorbar": {
            "outlinewidth": 0,
            "ticks": ""
           }
          },
          "colorscale": {
           "diverging": [
            [
             0,
             "#8e0152"
            ],
            [
             0.1,
             "#c51b7d"
            ],
            [
             0.2,
             "#de77ae"
            ],
            [
             0.3,
             "#f1b6da"
            ],
            [
             0.4,
             "#fde0ef"
            ],
            [
             0.5,
             "#f7f7f7"
            ],
            [
             0.6,
             "#e6f5d0"
            ],
            [
             0.7,
             "#b8e186"
            ],
            [
             0.8,
             "#7fbc41"
            ],
            [
             0.9,
             "#4d9221"
            ],
            [
             1,
             "#276419"
            ]
           ],
           "sequential": [
            [
             0,
             "#0d0887"
            ],
            [
             0.1111111111111111,
             "#46039f"
            ],
            [
             0.2222222222222222,
             "#7201a8"
            ],
            [
             0.3333333333333333,
             "#9c179e"
            ],
            [
             0.4444444444444444,
             "#bd3786"
            ],
            [
             0.5555555555555556,
             "#d8576b"
            ],
            [
             0.6666666666666666,
             "#ed7953"
            ],
            [
             0.7777777777777778,
             "#fb9f3a"
            ],
            [
             0.8888888888888888,
             "#fdca26"
            ],
            [
             1,
             "#f0f921"
            ]
           ],
           "sequentialminus": [
            [
             0,
             "#0d0887"
            ],
            [
             0.1111111111111111,
             "#46039f"
            ],
            [
             0.2222222222222222,
             "#7201a8"
            ],
            [
             0.3333333333333333,
             "#9c179e"
            ],
            [
             0.4444444444444444,
             "#bd3786"
            ],
            [
             0.5555555555555556,
             "#d8576b"
            ],
            [
             0.6666666666666666,
             "#ed7953"
            ],
            [
             0.7777777777777778,
             "#fb9f3a"
            ],
            [
             0.8888888888888888,
             "#fdca26"
            ],
            [
             1,
             "#f0f921"
            ]
           ]
          },
          "colorway": [
           "#636efa",
           "#EF553B",
           "#00cc96",
           "#ab63fa",
           "#FFA15A",
           "#19d3f3",
           "#FF6692",
           "#B6E880",
           "#FF97FF",
           "#FECB52"
          ],
          "font": {
           "color": "#2a3f5f"
          },
          "geo": {
           "bgcolor": "white",
           "lakecolor": "white",
           "landcolor": "#E5ECF6",
           "showlakes": true,
           "showland": true,
           "subunitcolor": "white"
          },
          "hoverlabel": {
           "align": "left"
          },
          "hovermode": "closest",
          "mapbox": {
           "style": "light"
          },
          "paper_bgcolor": "white",
          "plot_bgcolor": "#E5ECF6",
          "polar": {
           "angularaxis": {
            "gridcolor": "white",
            "linecolor": "white",
            "ticks": ""
           },
           "bgcolor": "#E5ECF6",
           "radialaxis": {
            "gridcolor": "white",
            "linecolor": "white",
            "ticks": ""
           }
          },
          "scene": {
           "xaxis": {
            "backgroundcolor": "#E5ECF6",
            "gridcolor": "white",
            "gridwidth": 2,
            "linecolor": "white",
            "showbackground": true,
            "ticks": "",
            "zerolinecolor": "white"
           },
           "yaxis": {
            "backgroundcolor": "#E5ECF6",
            "gridcolor": "white",
            "gridwidth": 2,
            "linecolor": "white",
            "showbackground": true,
            "ticks": "",
            "zerolinecolor": "white"
           },
           "zaxis": {
            "backgroundcolor": "#E5ECF6",
            "gridcolor": "white",
            "gridwidth": 2,
            "linecolor": "white",
            "showbackground": true,
            "ticks": "",
            "zerolinecolor": "white"
           }
          },
          "shapedefaults": {
           "line": {
            "color": "#2a3f5f"
           }
          },
          "ternary": {
           "aaxis": {
            "gridcolor": "white",
            "linecolor": "white",
            "ticks": ""
           },
           "baxis": {
            "gridcolor": "white",
            "linecolor": "white",
            "ticks": ""
           },
           "bgcolor": "#E5ECF6",
           "caxis": {
            "gridcolor": "white",
            "linecolor": "white",
            "ticks": ""
           }
          },
          "title": {
           "x": 0.05
          },
          "xaxis": {
           "automargin": true,
           "gridcolor": "white",
           "linecolor": "white",
           "ticks": "",
           "title": {
            "standoff": 15
           },
           "zerolinecolor": "white",
           "zerolinewidth": 2
          },
          "yaxis": {
           "automargin": true,
           "gridcolor": "white",
           "linecolor": "white",
           "ticks": "",
           "title": {
            "standoff": 15
           },
           "zerolinecolor": "white",
           "zerolinewidth": 2
          }
         }
        },
        "title": {
         "text": "Top 10 States with most confirmed cases"
        },
        "xaxis": {
         "anchor": "y",
         "domain": [
          0,
          1
         ],
         "title": {
          "text": "Number of confirmed cases"
         }
        },
        "yaxis": {
         "anchor": "x",
         "categoryorder": "total ascending",
         "domain": [
          0,
          1
         ],
         "title": {
          "text": "State Name"
         }
        }
       }
      }
     },
     "metadata": {}
    }
   ],
   "source": [
    "top_10_confirm_cases = india_cases.sort_values('Confirmed',ascending=False)[:10]\n",
    "horizontal_bar_chart(top_10_confirm_cases,top_10_confirm_cases.Confirmed,top_10_confirm_cases.index,\"Top 10 States with most confirmed cases\",'Number of confirmed cases','State Name',cnf)"
   ]
  },
  {
   "source": [
    "## Get Top 10 States with most Deaths cases"
   ],
   "cell_type": "markdown",
   "metadata": {}
  },
  {
   "cell_type": "code",
   "execution_count": 15,
   "metadata": {},
   "outputs": [
    {
     "output_type": "display_data",
     "data": {
      "application/vnd.plotly.v1+json": {
       "config": {
        "plotlyServerURL": "https://plot.ly"
       },
       "data": [
        {
         "alignmentgroup": "True",
         "hovertemplate": "Number of Deaths cases=%{x}<br>y=%{y}<extra></extra>",
         "legendgroup": "",
         "marker": {
          "color": "#33ccff",
          "pattern": {
           "shape": ""
          }
         },
         "name": "",
         "offsetgroup": "",
         "orientation": "h",
         "showlegend": false,
         "textposition": "auto",
         "type": "bar",
         "x": [
          123531,
          13960,
          35526,
          33132,
          12898,
          22656,
          17834,
          25001,
          13462,
          8942
         ],
         "xaxis": "x",
         "y": [
          "Maharashtra",
          "Kerala",
          "Karnataka",
          "Tamil Nadu",
          "Andhra Pradesh",
          "Uttar Pradesh",
          "West Bengal",
          "Delhi",
          "Chhattisgarh",
          "Rajasthan"
         ],
         "yaxis": "y"
        }
       ],
       "layout": {
        "barmode": "relative",
        "legend": {
         "tracegroupgap": 0
        },
        "template": {
         "data": {
          "bar": [
           {
            "error_x": {
             "color": "#2a3f5f"
            },
            "error_y": {
             "color": "#2a3f5f"
            },
            "marker": {
             "line": {
              "color": "#E5ECF6",
              "width": 0.5
             },
             "pattern": {
              "fillmode": "overlay",
              "size": 10,
              "solidity": 0.2
             }
            },
            "type": "bar"
           }
          ],
          "barpolar": [
           {
            "marker": {
             "line": {
              "color": "#E5ECF6",
              "width": 0.5
             },
             "pattern": {
              "fillmode": "overlay",
              "size": 10,
              "solidity": 0.2
             }
            },
            "type": "barpolar"
           }
          ],
          "carpet": [
           {
            "aaxis": {
             "endlinecolor": "#2a3f5f",
             "gridcolor": "white",
             "linecolor": "white",
             "minorgridcolor": "white",
             "startlinecolor": "#2a3f5f"
            },
            "baxis": {
             "endlinecolor": "#2a3f5f",
             "gridcolor": "white",
             "linecolor": "white",
             "minorgridcolor": "white",
             "startlinecolor": "#2a3f5f"
            },
            "type": "carpet"
           }
          ],
          "choropleth": [
           {
            "colorbar": {
             "outlinewidth": 0,
             "ticks": ""
            },
            "type": "choropleth"
           }
          ],
          "contour": [
           {
            "colorbar": {
             "outlinewidth": 0,
             "ticks": ""
            },
            "colorscale": [
             [
              0,
              "#0d0887"
             ],
             [
              0.1111111111111111,
              "#46039f"
             ],
             [
              0.2222222222222222,
              "#7201a8"
             ],
             [
              0.3333333333333333,
              "#9c179e"
             ],
             [
              0.4444444444444444,
              "#bd3786"
             ],
             [
              0.5555555555555556,
              "#d8576b"
             ],
             [
              0.6666666666666666,
              "#ed7953"
             ],
             [
              0.7777777777777778,
              "#fb9f3a"
             ],
             [
              0.8888888888888888,
              "#fdca26"
             ],
             [
              1,
              "#f0f921"
             ]
            ],
            "type": "contour"
           }
          ],
          "contourcarpet": [
           {
            "colorbar": {
             "outlinewidth": 0,
             "ticks": ""
            },
            "type": "contourcarpet"
           }
          ],
          "heatmap": [
           {
            "colorbar": {
             "outlinewidth": 0,
             "ticks": ""
            },
            "colorscale": [
             [
              0,
              "#0d0887"
             ],
             [
              0.1111111111111111,
              "#46039f"
             ],
             [
              0.2222222222222222,
              "#7201a8"
             ],
             [
              0.3333333333333333,
              "#9c179e"
             ],
             [
              0.4444444444444444,
              "#bd3786"
             ],
             [
              0.5555555555555556,
              "#d8576b"
             ],
             [
              0.6666666666666666,
              "#ed7953"
             ],
             [
              0.7777777777777778,
              "#fb9f3a"
             ],
             [
              0.8888888888888888,
              "#fdca26"
             ],
             [
              1,
              "#f0f921"
             ]
            ],
            "type": "heatmap"
           }
          ],
          "heatmapgl": [
           {
            "colorbar": {
             "outlinewidth": 0,
             "ticks": ""
            },
            "colorscale": [
             [
              0,
              "#0d0887"
             ],
             [
              0.1111111111111111,
              "#46039f"
             ],
             [
              0.2222222222222222,
              "#7201a8"
             ],
             [
              0.3333333333333333,
              "#9c179e"
             ],
             [
              0.4444444444444444,
              "#bd3786"
             ],
             [
              0.5555555555555556,
              "#d8576b"
             ],
             [
              0.6666666666666666,
              "#ed7953"
             ],
             [
              0.7777777777777778,
              "#fb9f3a"
             ],
             [
              0.8888888888888888,
              "#fdca26"
             ],
             [
              1,
              "#f0f921"
             ]
            ],
            "type": "heatmapgl"
           }
          ],
          "histogram": [
           {
            "marker": {
             "pattern": {
              "fillmode": "overlay",
              "size": 10,
              "solidity": 0.2
             }
            },
            "type": "histogram"
           }
          ],
          "histogram2d": [
           {
            "colorbar": {
             "outlinewidth": 0,
             "ticks": ""
            },
            "colorscale": [
             [
              0,
              "#0d0887"
             ],
             [
              0.1111111111111111,
              "#46039f"
             ],
             [
              0.2222222222222222,
              "#7201a8"
             ],
             [
              0.3333333333333333,
              "#9c179e"
             ],
             [
              0.4444444444444444,
              "#bd3786"
             ],
             [
              0.5555555555555556,
              "#d8576b"
             ],
             [
              0.6666666666666666,
              "#ed7953"
             ],
             [
              0.7777777777777778,
              "#fb9f3a"
             ],
             [
              0.8888888888888888,
              "#fdca26"
             ],
             [
              1,
              "#f0f921"
             ]
            ],
            "type": "histogram2d"
           }
          ],
          "histogram2dcontour": [
           {
            "colorbar": {
             "outlinewidth": 0,
             "ticks": ""
            },
            "colorscale": [
             [
              0,
              "#0d0887"
             ],
             [
              0.1111111111111111,
              "#46039f"
             ],
             [
              0.2222222222222222,
              "#7201a8"
             ],
             [
              0.3333333333333333,
              "#9c179e"
             ],
             [
              0.4444444444444444,
              "#bd3786"
             ],
             [
              0.5555555555555556,
              "#d8576b"
             ],
             [
              0.6666666666666666,
              "#ed7953"
             ],
             [
              0.7777777777777778,
              "#fb9f3a"
             ],
             [
              0.8888888888888888,
              "#fdca26"
             ],
             [
              1,
              "#f0f921"
             ]
            ],
            "type": "histogram2dcontour"
           }
          ],
          "mesh3d": [
           {
            "colorbar": {
             "outlinewidth": 0,
             "ticks": ""
            },
            "type": "mesh3d"
           }
          ],
          "parcoords": [
           {
            "line": {
             "colorbar": {
              "outlinewidth": 0,
              "ticks": ""
             }
            },
            "type": "parcoords"
           }
          ],
          "pie": [
           {
            "automargin": true,
            "type": "pie"
           }
          ],
          "scatter": [
           {
            "marker": {
             "colorbar": {
              "outlinewidth": 0,
              "ticks": ""
             }
            },
            "type": "scatter"
           }
          ],
          "scatter3d": [
           {
            "line": {
             "colorbar": {
              "outlinewidth": 0,
              "ticks": ""
             }
            },
            "marker": {
             "colorbar": {
              "outlinewidth": 0,
              "ticks": ""
             }
            },
            "type": "scatter3d"
           }
          ],
          "scattercarpet": [
           {
            "marker": {
             "colorbar": {
              "outlinewidth": 0,
              "ticks": ""
             }
            },
            "type": "scattercarpet"
           }
          ],
          "scattergeo": [
           {
            "marker": {
             "colorbar": {
              "outlinewidth": 0,
              "ticks": ""
             }
            },
            "type": "scattergeo"
           }
          ],
          "scattergl": [
           {
            "marker": {
             "colorbar": {
              "outlinewidth": 0,
              "ticks": ""
             }
            },
            "type": "scattergl"
           }
          ],
          "scattermapbox": [
           {
            "marker": {
             "colorbar": {
              "outlinewidth": 0,
              "ticks": ""
             }
            },
            "type": "scattermapbox"
           }
          ],
          "scatterpolar": [
           {
            "marker": {
             "colorbar": {
              "outlinewidth": 0,
              "ticks": ""
             }
            },
            "type": "scatterpolar"
           }
          ],
          "scatterpolargl": [
           {
            "marker": {
             "colorbar": {
              "outlinewidth": 0,
              "ticks": ""
             }
            },
            "type": "scatterpolargl"
           }
          ],
          "scatterternary": [
           {
            "marker": {
             "colorbar": {
              "outlinewidth": 0,
              "ticks": ""
             }
            },
            "type": "scatterternary"
           }
          ],
          "surface": [
           {
            "colorbar": {
             "outlinewidth": 0,
             "ticks": ""
            },
            "colorscale": [
             [
              0,
              "#0d0887"
             ],
             [
              0.1111111111111111,
              "#46039f"
             ],
             [
              0.2222222222222222,
              "#7201a8"
             ],
             [
              0.3333333333333333,
              "#9c179e"
             ],
             [
              0.4444444444444444,
              "#bd3786"
             ],
             [
              0.5555555555555556,
              "#d8576b"
             ],
             [
              0.6666666666666666,
              "#ed7953"
             ],
             [
              0.7777777777777778,
              "#fb9f3a"
             ],
             [
              0.8888888888888888,
              "#fdca26"
             ],
             [
              1,
              "#f0f921"
             ]
            ],
            "type": "surface"
           }
          ],
          "table": [
           {
            "cells": {
             "fill": {
              "color": "#EBF0F8"
             },
             "line": {
              "color": "white"
             }
            },
            "header": {
             "fill": {
              "color": "#C8D4E3"
             },
             "line": {
              "color": "white"
             }
            },
            "type": "table"
           }
          ]
         },
         "layout": {
          "annotationdefaults": {
           "arrowcolor": "#2a3f5f",
           "arrowhead": 0,
           "arrowwidth": 1
          },
          "autotypenumbers": "strict",
          "coloraxis": {
           "colorbar": {
            "outlinewidth": 0,
            "ticks": ""
           }
          },
          "colorscale": {
           "diverging": [
            [
             0,
             "#8e0152"
            ],
            [
             0.1,
             "#c51b7d"
            ],
            [
             0.2,
             "#de77ae"
            ],
            [
             0.3,
             "#f1b6da"
            ],
            [
             0.4,
             "#fde0ef"
            ],
            [
             0.5,
             "#f7f7f7"
            ],
            [
             0.6,
             "#e6f5d0"
            ],
            [
             0.7,
             "#b8e186"
            ],
            [
             0.8,
             "#7fbc41"
            ],
            [
             0.9,
             "#4d9221"
            ],
            [
             1,
             "#276419"
            ]
           ],
           "sequential": [
            [
             0,
             "#0d0887"
            ],
            [
             0.1111111111111111,
             "#46039f"
            ],
            [
             0.2222222222222222,
             "#7201a8"
            ],
            [
             0.3333333333333333,
             "#9c179e"
            ],
            [
             0.4444444444444444,
             "#bd3786"
            ],
            [
             0.5555555555555556,
             "#d8576b"
            ],
            [
             0.6666666666666666,
             "#ed7953"
            ],
            [
             0.7777777777777778,
             "#fb9f3a"
            ],
            [
             0.8888888888888888,
             "#fdca26"
            ],
            [
             1,
             "#f0f921"
            ]
           ],
           "sequentialminus": [
            [
             0,
             "#0d0887"
            ],
            [
             0.1111111111111111,
             "#46039f"
            ],
            [
             0.2222222222222222,
             "#7201a8"
            ],
            [
             0.3333333333333333,
             "#9c179e"
            ],
            [
             0.4444444444444444,
             "#bd3786"
            ],
            [
             0.5555555555555556,
             "#d8576b"
            ],
            [
             0.6666666666666666,
             "#ed7953"
            ],
            [
             0.7777777777777778,
             "#fb9f3a"
            ],
            [
             0.8888888888888888,
             "#fdca26"
            ],
            [
             1,
             "#f0f921"
            ]
           ]
          },
          "colorway": [
           "#636efa",
           "#EF553B",
           "#00cc96",
           "#ab63fa",
           "#FFA15A",
           "#19d3f3",
           "#FF6692",
           "#B6E880",
           "#FF97FF",
           "#FECB52"
          ],
          "font": {
           "color": "#2a3f5f"
          },
          "geo": {
           "bgcolor": "white",
           "lakecolor": "white",
           "landcolor": "#E5ECF6",
           "showlakes": true,
           "showland": true,
           "subunitcolor": "white"
          },
          "hoverlabel": {
           "align": "left"
          },
          "hovermode": "closest",
          "mapbox": {
           "style": "light"
          },
          "paper_bgcolor": "white",
          "plot_bgcolor": "#E5ECF6",
          "polar": {
           "angularaxis": {
            "gridcolor": "white",
            "linecolor": "white",
            "ticks": ""
           },
           "bgcolor": "#E5ECF6",
           "radialaxis": {
            "gridcolor": "white",
            "linecolor": "white",
            "ticks": ""
           }
          },
          "scene": {
           "xaxis": {
            "backgroundcolor": "#E5ECF6",
            "gridcolor": "white",
            "gridwidth": 2,
            "linecolor": "white",
            "showbackground": true,
            "ticks": "",
            "zerolinecolor": "white"
           },
           "yaxis": {
            "backgroundcolor": "#E5ECF6",
            "gridcolor": "white",
            "gridwidth": 2,
            "linecolor": "white",
            "showbackground": true,
            "ticks": "",
            "zerolinecolor": "white"
           },
           "zaxis": {
            "backgroundcolor": "#E5ECF6",
            "gridcolor": "white",
            "gridwidth": 2,
            "linecolor": "white",
            "showbackground": true,
            "ticks": "",
            "zerolinecolor": "white"
           }
          },
          "shapedefaults": {
           "line": {
            "color": "#2a3f5f"
           }
          },
          "ternary": {
           "aaxis": {
            "gridcolor": "white",
            "linecolor": "white",
            "ticks": ""
           },
           "baxis": {
            "gridcolor": "white",
            "linecolor": "white",
            "ticks": ""
           },
           "bgcolor": "#E5ECF6",
           "caxis": {
            "gridcolor": "white",
            "linecolor": "white",
            "ticks": ""
           }
          },
          "title": {
           "x": 0.05
          },
          "xaxis": {
           "automargin": true,
           "gridcolor": "white",
           "linecolor": "white",
           "ticks": "",
           "title": {
            "standoff": 15
           },
           "zerolinecolor": "white",
           "zerolinewidth": 2
          },
          "yaxis": {
           "automargin": true,
           "gridcolor": "white",
           "linecolor": "white",
           "ticks": "",
           "title": {
            "standoff": 15
           },
           "zerolinecolor": "white",
           "zerolinewidth": 2
          }
         }
        },
        "title": {
         "text": "Top 10 States with most Deaths cases"
        },
        "xaxis": {
         "anchor": "y",
         "domain": [
          0,
          1
         ],
         "title": {
          "text": "Number of Deaths cases"
         }
        },
        "yaxis": {
         "anchor": "x",
         "categoryorder": "total ascending",
         "domain": [
          0,
          1
         ],
         "title": {
          "text": "y"
         }
        }
       }
      }
     },
     "metadata": {}
    }
   ],
   "source": [
    "top_10_deaths_cases = india_cases.sort_values('Confirmed',ascending=False)[:10]\n",
    "horizontal_bar_chart(top_10_deaths_cases,top_10_deaths_cases.Deaths,top_10_confirm_cases.index,\"Top 10 States with most Deaths cases\",'Number of Deaths cases','State Name',dht)"
   ]
  },
  {
   "source": [
    "## Get Top 10 States with most Active cases"
   ],
   "cell_type": "markdown",
   "metadata": {}
  },
  {
   "cell_type": "code",
   "execution_count": 16,
   "metadata": {},
   "outputs": [
    {
     "output_type": "display_data",
     "data": {
      "application/vnd.plotly.v1+json": {
       "config": {
        "plotlyServerURL": "https://plot.ly"
       },
       "data": [
        {
         "alignmentgroup": "True",
         "hovertemplate": "Number of Active cases=%{x}<br>y=%{y}<extra></extra>",
         "legendgroup": "",
         "marker": {
          "color": "#fe9801",
          "pattern": {
           "shape": ""
          }
         },
         "name": "",
         "offsetgroup": "",
         "orientation": "h",
         "showlegend": false,
         "textposition": "auto",
         "type": "bar",
         "x": [
          117536,
          104577,
          40039,
          34477,
          33230,
          2032,
          17275,
          833,
          5004,
          1012
         ],
         "xaxis": "x",
         "y": [
          "Maharashtra",
          "Kerala",
          "Karnataka",
          "Tamil Nadu",
          "Andhra Pradesh",
          "Uttar Pradesh",
          "West Bengal",
          "Delhi",
          "Chhattisgarh",
          "Rajasthan"
         ],
         "yaxis": "y"
        }
       ],
       "layout": {
        "barmode": "relative",
        "legend": {
         "tracegroupgap": 0
        },
        "template": {
         "data": {
          "bar": [
           {
            "error_x": {
             "color": "#2a3f5f"
            },
            "error_y": {
             "color": "#2a3f5f"
            },
            "marker": {
             "line": {
              "color": "#E5ECF6",
              "width": 0.5
             },
             "pattern": {
              "fillmode": "overlay",
              "size": 10,
              "solidity": 0.2
             }
            },
            "type": "bar"
           }
          ],
          "barpolar": [
           {
            "marker": {
             "line": {
              "color": "#E5ECF6",
              "width": 0.5
             },
             "pattern": {
              "fillmode": "overlay",
              "size": 10,
              "solidity": 0.2
             }
            },
            "type": "barpolar"
           }
          ],
          "carpet": [
           {
            "aaxis": {
             "endlinecolor": "#2a3f5f",
             "gridcolor": "white",
             "linecolor": "white",
             "minorgridcolor": "white",
             "startlinecolor": "#2a3f5f"
            },
            "baxis": {
             "endlinecolor": "#2a3f5f",
             "gridcolor": "white",
             "linecolor": "white",
             "minorgridcolor": "white",
             "startlinecolor": "#2a3f5f"
            },
            "type": "carpet"
           }
          ],
          "choropleth": [
           {
            "colorbar": {
             "outlinewidth": 0,
             "ticks": ""
            },
            "type": "choropleth"
           }
          ],
          "contour": [
           {
            "colorbar": {
             "outlinewidth": 0,
             "ticks": ""
            },
            "colorscale": [
             [
              0,
              "#0d0887"
             ],
             [
              0.1111111111111111,
              "#46039f"
             ],
             [
              0.2222222222222222,
              "#7201a8"
             ],
             [
              0.3333333333333333,
              "#9c179e"
             ],
             [
              0.4444444444444444,
              "#bd3786"
             ],
             [
              0.5555555555555556,
              "#d8576b"
             ],
             [
              0.6666666666666666,
              "#ed7953"
             ],
             [
              0.7777777777777778,
              "#fb9f3a"
             ],
             [
              0.8888888888888888,
              "#fdca26"
             ],
             [
              1,
              "#f0f921"
             ]
            ],
            "type": "contour"
           }
          ],
          "contourcarpet": [
           {
            "colorbar": {
             "outlinewidth": 0,
             "ticks": ""
            },
            "type": "contourcarpet"
           }
          ],
          "heatmap": [
           {
            "colorbar": {
             "outlinewidth": 0,
             "ticks": ""
            },
            "colorscale": [
             [
              0,
              "#0d0887"
             ],
             [
              0.1111111111111111,
              "#46039f"
             ],
             [
              0.2222222222222222,
              "#7201a8"
             ],
             [
              0.3333333333333333,
              "#9c179e"
             ],
             [
              0.4444444444444444,
              "#bd3786"
             ],
             [
              0.5555555555555556,
              "#d8576b"
             ],
             [
              0.6666666666666666,
              "#ed7953"
             ],
             [
              0.7777777777777778,
              "#fb9f3a"
             ],
             [
              0.8888888888888888,
              "#fdca26"
             ],
             [
              1,
              "#f0f921"
             ]
            ],
            "type": "heatmap"
           }
          ],
          "heatmapgl": [
           {
            "colorbar": {
             "outlinewidth": 0,
             "ticks": ""
            },
            "colorscale": [
             [
              0,
              "#0d0887"
             ],
             [
              0.1111111111111111,
              "#46039f"
             ],
             [
              0.2222222222222222,
              "#7201a8"
             ],
             [
              0.3333333333333333,
              "#9c179e"
             ],
             [
              0.4444444444444444,
              "#bd3786"
             ],
             [
              0.5555555555555556,
              "#d8576b"
             ],
             [
              0.6666666666666666,
              "#ed7953"
             ],
             [
              0.7777777777777778,
              "#fb9f3a"
             ],
             [
              0.8888888888888888,
              "#fdca26"
             ],
             [
              1,
              "#f0f921"
             ]
            ],
            "type": "heatmapgl"
           }
          ],
          "histogram": [
           {
            "marker": {
             "pattern": {
              "fillmode": "overlay",
              "size": 10,
              "solidity": 0.2
             }
            },
            "type": "histogram"
           }
          ],
          "histogram2d": [
           {
            "colorbar": {
             "outlinewidth": 0,
             "ticks": ""
            },
            "colorscale": [
             [
              0,
              "#0d0887"
             ],
             [
              0.1111111111111111,
              "#46039f"
             ],
             [
              0.2222222222222222,
              "#7201a8"
             ],
             [
              0.3333333333333333,
              "#9c179e"
             ],
             [
              0.4444444444444444,
              "#bd3786"
             ],
             [
              0.5555555555555556,
              "#d8576b"
             ],
             [
              0.6666666666666666,
              "#ed7953"
             ],
             [
              0.7777777777777778,
              "#fb9f3a"
             ],
             [
              0.8888888888888888,
              "#fdca26"
             ],
             [
              1,
              "#f0f921"
             ]
            ],
            "type": "histogram2d"
           }
          ],
          "histogram2dcontour": [
           {
            "colorbar": {
             "outlinewidth": 0,
             "ticks": ""
            },
            "colorscale": [
             [
              0,
              "#0d0887"
             ],
             [
              0.1111111111111111,
              "#46039f"
             ],
             [
              0.2222222222222222,
              "#7201a8"
             ],
             [
              0.3333333333333333,
              "#9c179e"
             ],
             [
              0.4444444444444444,
              "#bd3786"
             ],
             [
              0.5555555555555556,
              "#d8576b"
             ],
             [
              0.6666666666666666,
              "#ed7953"
             ],
             [
              0.7777777777777778,
              "#fb9f3a"
             ],
             [
              0.8888888888888888,
              "#fdca26"
             ],
             [
              1,
              "#f0f921"
             ]
            ],
            "type": "histogram2dcontour"
           }
          ],
          "mesh3d": [
           {
            "colorbar": {
             "outlinewidth": 0,
             "ticks": ""
            },
            "type": "mesh3d"
           }
          ],
          "parcoords": [
           {
            "line": {
             "colorbar": {
              "outlinewidth": 0,
              "ticks": ""
             }
            },
            "type": "parcoords"
           }
          ],
          "pie": [
           {
            "automargin": true,
            "type": "pie"
           }
          ],
          "scatter": [
           {
            "marker": {
             "colorbar": {
              "outlinewidth": 0,
              "ticks": ""
             }
            },
            "type": "scatter"
           }
          ],
          "scatter3d": [
           {
            "line": {
             "colorbar": {
              "outlinewidth": 0,
              "ticks": ""
             }
            },
            "marker": {
             "colorbar": {
              "outlinewidth": 0,
              "ticks": ""
             }
            },
            "type": "scatter3d"
           }
          ],
          "scattercarpet": [
           {
            "marker": {
             "colorbar": {
              "outlinewidth": 0,
              "ticks": ""
             }
            },
            "type": "scattercarpet"
           }
          ],
          "scattergeo": [
           {
            "marker": {
             "colorbar": {
              "outlinewidth": 0,
              "ticks": ""
             }
            },
            "type": "scattergeo"
           }
          ],
          "scattergl": [
           {
            "marker": {
             "colorbar": {
              "outlinewidth": 0,
              "ticks": ""
             }
            },
            "type": "scattergl"
           }
          ],
          "scattermapbox": [
           {
            "marker": {
             "colorbar": {
              "outlinewidth": 0,
              "ticks": ""
             }
            },
            "type": "scattermapbox"
           }
          ],
          "scatterpolar": [
           {
            "marker": {
             "colorbar": {
              "outlinewidth": 0,
              "ticks": ""
             }
            },
            "type": "scatterpolar"
           }
          ],
          "scatterpolargl": [
           {
            "marker": {
             "colorbar": {
              "outlinewidth": 0,
              "ticks": ""
             }
            },
            "type": "scatterpolargl"
           }
          ],
          "scatterternary": [
           {
            "marker": {
             "colorbar": {
              "outlinewidth": 0,
              "ticks": ""
             }
            },
            "type": "scatterternary"
           }
          ],
          "surface": [
           {
            "colorbar": {
             "outlinewidth": 0,
             "ticks": ""
            },
            "colorscale": [
             [
              0,
              "#0d0887"
             ],
             [
              0.1111111111111111,
              "#46039f"
             ],
             [
              0.2222222222222222,
              "#7201a8"
             ],
             [
              0.3333333333333333,
              "#9c179e"
             ],
             [
              0.4444444444444444,
              "#bd3786"
             ],
             [
              0.5555555555555556,
              "#d8576b"
             ],
             [
              0.6666666666666666,
              "#ed7953"
             ],
             [
              0.7777777777777778,
              "#fb9f3a"
             ],
             [
              0.8888888888888888,
              "#fdca26"
             ],
             [
              1,
              "#f0f921"
             ]
            ],
            "type": "surface"
           }
          ],
          "table": [
           {
            "cells": {
             "fill": {
              "color": "#EBF0F8"
             },
             "line": {
              "color": "white"
             }
            },
            "header": {
             "fill": {
              "color": "#C8D4E3"
             },
             "line": {
              "color": "white"
             }
            },
            "type": "table"
           }
          ]
         },
         "layout": {
          "annotationdefaults": {
           "arrowcolor": "#2a3f5f",
           "arrowhead": 0,
           "arrowwidth": 1
          },
          "autotypenumbers": "strict",
          "coloraxis": {
           "colorbar": {
            "outlinewidth": 0,
            "ticks": ""
           }
          },
          "colorscale": {
           "diverging": [
            [
             0,
             "#8e0152"
            ],
            [
             0.1,
             "#c51b7d"
            ],
            [
             0.2,
             "#de77ae"
            ],
            [
             0.3,
             "#f1b6da"
            ],
            [
             0.4,
             "#fde0ef"
            ],
            [
             0.5,
             "#f7f7f7"
            ],
            [
             0.6,
             "#e6f5d0"
            ],
            [
             0.7,
             "#b8e186"
            ],
            [
             0.8,
             "#7fbc41"
            ],
            [
             0.9,
             "#4d9221"
            ],
            [
             1,
             "#276419"
            ]
           ],
           "sequential": [
            [
             0,
             "#0d0887"
            ],
            [
             0.1111111111111111,
             "#46039f"
            ],
            [
             0.2222222222222222,
             "#7201a8"
            ],
            [
             0.3333333333333333,
             "#9c179e"
            ],
            [
             0.4444444444444444,
             "#bd3786"
            ],
            [
             0.5555555555555556,
             "#d8576b"
            ],
            [
             0.6666666666666666,
             "#ed7953"
            ],
            [
             0.7777777777777778,
             "#fb9f3a"
            ],
            [
             0.8888888888888888,
             "#fdca26"
            ],
            [
             1,
             "#f0f921"
            ]
           ],
           "sequentialminus": [
            [
             0,
             "#0d0887"
            ],
            [
             0.1111111111111111,
             "#46039f"
            ],
            [
             0.2222222222222222,
             "#7201a8"
            ],
            [
             0.3333333333333333,
             "#9c179e"
            ],
            [
             0.4444444444444444,
             "#bd3786"
            ],
            [
             0.5555555555555556,
             "#d8576b"
            ],
            [
             0.6666666666666666,
             "#ed7953"
            ],
            [
             0.7777777777777778,
             "#fb9f3a"
            ],
            [
             0.8888888888888888,
             "#fdca26"
            ],
            [
             1,
             "#f0f921"
            ]
           ]
          },
          "colorway": [
           "#636efa",
           "#EF553B",
           "#00cc96",
           "#ab63fa",
           "#FFA15A",
           "#19d3f3",
           "#FF6692",
           "#B6E880",
           "#FF97FF",
           "#FECB52"
          ],
          "font": {
           "color": "#2a3f5f"
          },
          "geo": {
           "bgcolor": "white",
           "lakecolor": "white",
           "landcolor": "#E5ECF6",
           "showlakes": true,
           "showland": true,
           "subunitcolor": "white"
          },
          "hoverlabel": {
           "align": "left"
          },
          "hovermode": "closest",
          "mapbox": {
           "style": "light"
          },
          "paper_bgcolor": "white",
          "plot_bgcolor": "#E5ECF6",
          "polar": {
           "angularaxis": {
            "gridcolor": "white",
            "linecolor": "white",
            "ticks": ""
           },
           "bgcolor": "#E5ECF6",
           "radialaxis": {
            "gridcolor": "white",
            "linecolor": "white",
            "ticks": ""
           }
          },
          "scene": {
           "xaxis": {
            "backgroundcolor": "#E5ECF6",
            "gridcolor": "white",
            "gridwidth": 2,
            "linecolor": "white",
            "showbackground": true,
            "ticks": "",
            "zerolinecolor": "white"
           },
           "yaxis": {
            "backgroundcolor": "#E5ECF6",
            "gridcolor": "white",
            "gridwidth": 2,
            "linecolor": "white",
            "showbackground": true,
            "ticks": "",
            "zerolinecolor": "white"
           },
           "zaxis": {
            "backgroundcolor": "#E5ECF6",
            "gridcolor": "white",
            "gridwidth": 2,
            "linecolor": "white",
            "showbackground": true,
            "ticks": "",
            "zerolinecolor": "white"
           }
          },
          "shapedefaults": {
           "line": {
            "color": "#2a3f5f"
           }
          },
          "ternary": {
           "aaxis": {
            "gridcolor": "white",
            "linecolor": "white",
            "ticks": ""
           },
           "baxis": {
            "gridcolor": "white",
            "linecolor": "white",
            "ticks": ""
           },
           "bgcolor": "#E5ECF6",
           "caxis": {
            "gridcolor": "white",
            "linecolor": "white",
            "ticks": ""
           }
          },
          "title": {
           "x": 0.05
          },
          "xaxis": {
           "automargin": true,
           "gridcolor": "white",
           "linecolor": "white",
           "ticks": "",
           "title": {
            "standoff": 15
           },
           "zerolinecolor": "white",
           "zerolinewidth": 2
          },
          "yaxis": {
           "automargin": true,
           "gridcolor": "white",
           "linecolor": "white",
           "ticks": "",
           "title": {
            "standoff": 15
           },
           "zerolinecolor": "white",
           "zerolinewidth": 2
          }
         }
        },
        "title": {
         "text": "Top 10 States with most Active cases"
        },
        "xaxis": {
         "anchor": "y",
         "domain": [
          0,
          1
         ],
         "title": {
          "text": "Number of Active cases"
         }
        },
        "yaxis": {
         "anchor": "x",
         "categoryorder": "total ascending",
         "domain": [
          0,
          1
         ],
         "title": {
          "text": "y"
         }
        }
       }
      }
     },
     "metadata": {}
    }
   ],
   "source": [
    "top_10_active_cases = india_cases.sort_values('Confirmed',ascending=False)[:10]\n",
    "horizontal_bar_chart(top_10_active_cases,top_10_active_cases.Active,top_10_confirm_cases.index,\"Top 10 States with most Active cases\",'Number of Active cases','State Name',act)"
   ]
  },
  {
   "source": [
    "## Get Top 10 States with most Recovery cases"
   ],
   "cell_type": "markdown",
   "metadata": {}
  },
  {
   "cell_type": "code",
   "execution_count": 17,
   "metadata": {},
   "outputs": [
    {
     "output_type": "display_data",
     "data": {
      "application/vnd.plotly.v1+json": {
       "config": {
        "plotlyServerURL": "https://plot.ly"
       },
       "data": [
        {
         "alignmentgroup": "True",
         "hovertemplate": "Number of Recovery cases=%{x}<br>y=%{y}<extra></extra>",
         "legendgroup": "",
         "marker": {
          "color": "#ff99cc",
          "pattern": {
           "shape": ""
          }
         },
         "name": "",
         "offsetgroup": "",
         "orientation": "h",
         "showlegend": false,
         "textposition": "auto",
         "type": "bar",
         "x": [
          5872268,
          2877557,
          2784030,
          2435872,
          1861937,
          1682130,
          1472132,
          1408853,
          977893,
          942882
         ],
         "xaxis": "x",
         "y": [
          "Maharashtra",
          "Kerala",
          "Karnataka",
          "Tamil Nadu",
          "Andhra Pradesh",
          "Uttar Pradesh",
          "West Bengal",
          "Delhi",
          "Chhattisgarh",
          "Rajasthan"
         ],
         "yaxis": "y"
        }
       ],
       "layout": {
        "barmode": "relative",
        "legend": {
         "tracegroupgap": 0
        },
        "template": {
         "data": {
          "bar": [
           {
            "error_x": {
             "color": "#2a3f5f"
            },
            "error_y": {
             "color": "#2a3f5f"
            },
            "marker": {
             "line": {
              "color": "#E5ECF6",
              "width": 0.5
             },
             "pattern": {
              "fillmode": "overlay",
              "size": 10,
              "solidity": 0.2
             }
            },
            "type": "bar"
           }
          ],
          "barpolar": [
           {
            "marker": {
             "line": {
              "color": "#E5ECF6",
              "width": 0.5
             },
             "pattern": {
              "fillmode": "overlay",
              "size": 10,
              "solidity": 0.2
             }
            },
            "type": "barpolar"
           }
          ],
          "carpet": [
           {
            "aaxis": {
             "endlinecolor": "#2a3f5f",
             "gridcolor": "white",
             "linecolor": "white",
             "minorgridcolor": "white",
             "startlinecolor": "#2a3f5f"
            },
            "baxis": {
             "endlinecolor": "#2a3f5f",
             "gridcolor": "white",
             "linecolor": "white",
             "minorgridcolor": "white",
             "startlinecolor": "#2a3f5f"
            },
            "type": "carpet"
           }
          ],
          "choropleth": [
           {
            "colorbar": {
             "outlinewidth": 0,
             "ticks": ""
            },
            "type": "choropleth"
           }
          ],
          "contour": [
           {
            "colorbar": {
             "outlinewidth": 0,
             "ticks": ""
            },
            "colorscale": [
             [
              0,
              "#0d0887"
             ],
             [
              0.1111111111111111,
              "#46039f"
             ],
             [
              0.2222222222222222,
              "#7201a8"
             ],
             [
              0.3333333333333333,
              "#9c179e"
             ],
             [
              0.4444444444444444,
              "#bd3786"
             ],
             [
              0.5555555555555556,
              "#d8576b"
             ],
             [
              0.6666666666666666,
              "#ed7953"
             ],
             [
              0.7777777777777778,
              "#fb9f3a"
             ],
             [
              0.8888888888888888,
              "#fdca26"
             ],
             [
              1,
              "#f0f921"
             ]
            ],
            "type": "contour"
           }
          ],
          "contourcarpet": [
           {
            "colorbar": {
             "outlinewidth": 0,
             "ticks": ""
            },
            "type": "contourcarpet"
           }
          ],
          "heatmap": [
           {
            "colorbar": {
             "outlinewidth": 0,
             "ticks": ""
            },
            "colorscale": [
             [
              0,
              "#0d0887"
             ],
             [
              0.1111111111111111,
              "#46039f"
             ],
             [
              0.2222222222222222,
              "#7201a8"
             ],
             [
              0.3333333333333333,
              "#9c179e"
             ],
             [
              0.4444444444444444,
              "#bd3786"
             ],
             [
              0.5555555555555556,
              "#d8576b"
             ],
             [
              0.6666666666666666,
              "#ed7953"
             ],
             [
              0.7777777777777778,
              "#fb9f3a"
             ],
             [
              0.8888888888888888,
              "#fdca26"
             ],
             [
              1,
              "#f0f921"
             ]
            ],
            "type": "heatmap"
           }
          ],
          "heatmapgl": [
           {
            "colorbar": {
             "outlinewidth": 0,
             "ticks": ""
            },
            "colorscale": [
             [
              0,
              "#0d0887"
             ],
             [
              0.1111111111111111,
              "#46039f"
             ],
             [
              0.2222222222222222,
              "#7201a8"
             ],
             [
              0.3333333333333333,
              "#9c179e"
             ],
             [
              0.4444444444444444,
              "#bd3786"
             ],
             [
              0.5555555555555556,
              "#d8576b"
             ],
             [
              0.6666666666666666,
              "#ed7953"
             ],
             [
              0.7777777777777778,
              "#fb9f3a"
             ],
             [
              0.8888888888888888,
              "#fdca26"
             ],
             [
              1,
              "#f0f921"
             ]
            ],
            "type": "heatmapgl"
           }
          ],
          "histogram": [
           {
            "marker": {
             "pattern": {
              "fillmode": "overlay",
              "size": 10,
              "solidity": 0.2
             }
            },
            "type": "histogram"
           }
          ],
          "histogram2d": [
           {
            "colorbar": {
             "outlinewidth": 0,
             "ticks": ""
            },
            "colorscale": [
             [
              0,
              "#0d0887"
             ],
             [
              0.1111111111111111,
              "#46039f"
             ],
             [
              0.2222222222222222,
              "#7201a8"
             ],
             [
              0.3333333333333333,
              "#9c179e"
             ],
             [
              0.4444444444444444,
              "#bd3786"
             ],
             [
              0.5555555555555556,
              "#d8576b"
             ],
             [
              0.6666666666666666,
              "#ed7953"
             ],
             [
              0.7777777777777778,
              "#fb9f3a"
             ],
             [
              0.8888888888888888,
              "#fdca26"
             ],
             [
              1,
              "#f0f921"
             ]
            ],
            "type": "histogram2d"
           }
          ],
          "histogram2dcontour": [
           {
            "colorbar": {
             "outlinewidth": 0,
             "ticks": ""
            },
            "colorscale": [
             [
              0,
              "#0d0887"
             ],
             [
              0.1111111111111111,
              "#46039f"
             ],
             [
              0.2222222222222222,
              "#7201a8"
             ],
             [
              0.3333333333333333,
              "#9c179e"
             ],
             [
              0.4444444444444444,
              "#bd3786"
             ],
             [
              0.5555555555555556,
              "#d8576b"
             ],
             [
              0.6666666666666666,
              "#ed7953"
             ],
             [
              0.7777777777777778,
              "#fb9f3a"
             ],
             [
              0.8888888888888888,
              "#fdca26"
             ],
             [
              1,
              "#f0f921"
             ]
            ],
            "type": "histogram2dcontour"
           }
          ],
          "mesh3d": [
           {
            "colorbar": {
             "outlinewidth": 0,
             "ticks": ""
            },
            "type": "mesh3d"
           }
          ],
          "parcoords": [
           {
            "line": {
             "colorbar": {
              "outlinewidth": 0,
              "ticks": ""
             }
            },
            "type": "parcoords"
           }
          ],
          "pie": [
           {
            "automargin": true,
            "type": "pie"
           }
          ],
          "scatter": [
           {
            "marker": {
             "colorbar": {
              "outlinewidth": 0,
              "ticks": ""
             }
            },
            "type": "scatter"
           }
          ],
          "scatter3d": [
           {
            "line": {
             "colorbar": {
              "outlinewidth": 0,
              "ticks": ""
             }
            },
            "marker": {
             "colorbar": {
              "outlinewidth": 0,
              "ticks": ""
             }
            },
            "type": "scatter3d"
           }
          ],
          "scattercarpet": [
           {
            "marker": {
             "colorbar": {
              "outlinewidth": 0,
              "ticks": ""
             }
            },
            "type": "scattercarpet"
           }
          ],
          "scattergeo": [
           {
            "marker": {
             "colorbar": {
              "outlinewidth": 0,
              "ticks": ""
             }
            },
            "type": "scattergeo"
           }
          ],
          "scattergl": [
           {
            "marker": {
             "colorbar": {
              "outlinewidth": 0,
              "ticks": ""
             }
            },
            "type": "scattergl"
           }
          ],
          "scattermapbox": [
           {
            "marker": {
             "colorbar": {
              "outlinewidth": 0,
              "ticks": ""
             }
            },
            "type": "scattermapbox"
           }
          ],
          "scatterpolar": [
           {
            "marker": {
             "colorbar": {
              "outlinewidth": 0,
              "ticks": ""
             }
            },
            "type": "scatterpolar"
           }
          ],
          "scatterpolargl": [
           {
            "marker": {
             "colorbar": {
              "outlinewidth": 0,
              "ticks": ""
             }
            },
            "type": "scatterpolargl"
           }
          ],
          "scatterternary": [
           {
            "marker": {
             "colorbar": {
              "outlinewidth": 0,
              "ticks": ""
             }
            },
            "type": "scatterternary"
           }
          ],
          "surface": [
           {
            "colorbar": {
             "outlinewidth": 0,
             "ticks": ""
            },
            "colorscale": [
             [
              0,
              "#0d0887"
             ],
             [
              0.1111111111111111,
              "#46039f"
             ],
             [
              0.2222222222222222,
              "#7201a8"
             ],
             [
              0.3333333333333333,
              "#9c179e"
             ],
             [
              0.4444444444444444,
              "#bd3786"
             ],
             [
              0.5555555555555556,
              "#d8576b"
             ],
             [
              0.6666666666666666,
              "#ed7953"
             ],
             [
              0.7777777777777778,
              "#fb9f3a"
             ],
             [
              0.8888888888888888,
              "#fdca26"
             ],
             [
              1,
              "#f0f921"
             ]
            ],
            "type": "surface"
           }
          ],
          "table": [
           {
            "cells": {
             "fill": {
              "color": "#EBF0F8"
             },
             "line": {
              "color": "white"
             }
            },
            "header": {
             "fill": {
              "color": "#C8D4E3"
             },
             "line": {
              "color": "white"
             }
            },
            "type": "table"
           }
          ]
         },
         "layout": {
          "annotationdefaults": {
           "arrowcolor": "#2a3f5f",
           "arrowhead": 0,
           "arrowwidth": 1
          },
          "autotypenumbers": "strict",
          "coloraxis": {
           "colorbar": {
            "outlinewidth": 0,
            "ticks": ""
           }
          },
          "colorscale": {
           "diverging": [
            [
             0,
             "#8e0152"
            ],
            [
             0.1,
             "#c51b7d"
            ],
            [
             0.2,
             "#de77ae"
            ],
            [
             0.3,
             "#f1b6da"
            ],
            [
             0.4,
             "#fde0ef"
            ],
            [
             0.5,
             "#f7f7f7"
            ],
            [
             0.6,
             "#e6f5d0"
            ],
            [
             0.7,
             "#b8e186"
            ],
            [
             0.8,
             "#7fbc41"
            ],
            [
             0.9,
             "#4d9221"
            ],
            [
             1,
             "#276419"
            ]
           ],
           "sequential": [
            [
             0,
             "#0d0887"
            ],
            [
             0.1111111111111111,
             "#46039f"
            ],
            [
             0.2222222222222222,
             "#7201a8"
            ],
            [
             0.3333333333333333,
             "#9c179e"
            ],
            [
             0.4444444444444444,
             "#bd3786"
            ],
            [
             0.5555555555555556,
             "#d8576b"
            ],
            [
             0.6666666666666666,
             "#ed7953"
            ],
            [
             0.7777777777777778,
             "#fb9f3a"
            ],
            [
             0.8888888888888888,
             "#fdca26"
            ],
            [
             1,
             "#f0f921"
            ]
           ],
           "sequentialminus": [
            [
             0,
             "#0d0887"
            ],
            [
             0.1111111111111111,
             "#46039f"
            ],
            [
             0.2222222222222222,
             "#7201a8"
            ],
            [
             0.3333333333333333,
             "#9c179e"
            ],
            [
             0.4444444444444444,
             "#bd3786"
            ],
            [
             0.5555555555555556,
             "#d8576b"
            ],
            [
             0.6666666666666666,
             "#ed7953"
            ],
            [
             0.7777777777777778,
             "#fb9f3a"
            ],
            [
             0.8888888888888888,
             "#fdca26"
            ],
            [
             1,
             "#f0f921"
            ]
           ]
          },
          "colorway": [
           "#636efa",
           "#EF553B",
           "#00cc96",
           "#ab63fa",
           "#FFA15A",
           "#19d3f3",
           "#FF6692",
           "#B6E880",
           "#FF97FF",
           "#FECB52"
          ],
          "font": {
           "color": "#2a3f5f"
          },
          "geo": {
           "bgcolor": "white",
           "lakecolor": "white",
           "landcolor": "#E5ECF6",
           "showlakes": true,
           "showland": true,
           "subunitcolor": "white"
          },
          "hoverlabel": {
           "align": "left"
          },
          "hovermode": "closest",
          "mapbox": {
           "style": "light"
          },
          "paper_bgcolor": "white",
          "plot_bgcolor": "#E5ECF6",
          "polar": {
           "angularaxis": {
            "gridcolor": "white",
            "linecolor": "white",
            "ticks": ""
           },
           "bgcolor": "#E5ECF6",
           "radialaxis": {
            "gridcolor": "white",
            "linecolor": "white",
            "ticks": ""
           }
          },
          "scene": {
           "xaxis": {
            "backgroundcolor": "#E5ECF6",
            "gridcolor": "white",
            "gridwidth": 2,
            "linecolor": "white",
            "showbackground": true,
            "ticks": "",
            "zerolinecolor": "white"
           },
           "yaxis": {
            "backgroundcolor": "#E5ECF6",
            "gridcolor": "white",
            "gridwidth": 2,
            "linecolor": "white",
            "showbackground": true,
            "ticks": "",
            "zerolinecolor": "white"
           },
           "zaxis": {
            "backgroundcolor": "#E5ECF6",
            "gridcolor": "white",
            "gridwidth": 2,
            "linecolor": "white",
            "showbackground": true,
            "ticks": "",
            "zerolinecolor": "white"
           }
          },
          "shapedefaults": {
           "line": {
            "color": "#2a3f5f"
           }
          },
          "ternary": {
           "aaxis": {
            "gridcolor": "white",
            "linecolor": "white",
            "ticks": ""
           },
           "baxis": {
            "gridcolor": "white",
            "linecolor": "white",
            "ticks": ""
           },
           "bgcolor": "#E5ECF6",
           "caxis": {
            "gridcolor": "white",
            "linecolor": "white",
            "ticks": ""
           }
          },
          "title": {
           "x": 0.05
          },
          "xaxis": {
           "automargin": true,
           "gridcolor": "white",
           "linecolor": "white",
           "ticks": "",
           "title": {
            "standoff": 15
           },
           "zerolinecolor": "white",
           "zerolinewidth": 2
          },
          "yaxis": {
           "automargin": true,
           "gridcolor": "white",
           "linecolor": "white",
           "ticks": "",
           "title": {
            "standoff": 15
           },
           "zerolinecolor": "white",
           "zerolinewidth": 2
          }
         }
        },
        "title": {
         "text": "Top 10 States with most Recovery cases"
        },
        "xaxis": {
         "anchor": "y",
         "domain": [
          0,
          1
         ],
         "title": {
          "text": "Number of Recovery cases"
         }
        },
        "yaxis": {
         "anchor": "x",
         "categoryorder": "total ascending",
         "domain": [
          0,
          1
         ],
         "title": {
          "text": "y"
         }
        }
       }
      }
     },
     "metadata": {}
    }
   ],
   "source": [
    "top_10_recovery_cases = india_cases.sort_values('Confirmed',ascending=False)[:10]\n",
    "horizontal_bar_chart(top_10_recovery_cases,top_10_recovery_cases.Recovery,top_10_confirm_cases.index,\"Top 10 States with most Recovery cases\",'Number of Recovery cases','State Name',rec)"
   ]
  }
 ]
}